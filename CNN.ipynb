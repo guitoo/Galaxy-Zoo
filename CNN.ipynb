{
 "cells": [
  {
   "cell_type": "code",
   "execution_count": 33,
   "metadata": {},
   "outputs": [],
   "source": [
    "import cv2\n",
    "import numpy as np\n",
    "from pandas import DataFrame, read_csv\n",
    "from matplotlib import pyplot as plt\n",
    "from shutil import copy2\n",
    "from tensorflow.keras.preprocessing.image import ImageDataGenerator\n",
    "from tensorflow.keras.layers import (Dense, Activation, Input, Conv2D, MaxPooling2D, Flatten,\n",
    "                                     GlobalMaxPooling2D, LeakyReLU, concatenate, Dropout)\n",
    "from tensorflow.keras.models import Model, Sequential, load_model\n",
    "from tensorflow.keras.optimizers import SGD,RMSprop,Adam\n",
    "import tensorflow as tf\n",
    "from sklearn.model_selection import train_test_split\n",
    "from tensorflow.keras import backend as K\n",
    "from tensorflow.keras.callbacks import ModelCheckpoint\n",
    "from sklearn.metrics import confusion_matrix, accuracy_score\n",
    "import seaborn as sns\n",
    "from os.path import isfile"
   ]
  },
  {
   "cell_type": "code",
   "execution_count": 34,
   "metadata": {},
   "outputs": [],
   "source": [
    "SEED = 42"
   ]
  },
  {
   "cell_type": "code",
   "execution_count": 35,
   "metadata": {},
   "outputs": [],
   "source": [
    "y_filename='training_solutions_rev1.csv'\n",
    "y = read_csv(y_filename, index_col=0)[['Class1.1','Class1.2','Class1.3']]"
   ]
  },
  {
   "cell_type": "code",
   "execution_count": 36,
   "metadata": {},
   "outputs": [],
   "source": [
    "crop_shape = (256,256)\n",
    "input_shape = (96,96)"
   ]
  },
  {
   "cell_type": "code",
   "execution_count": 37,
   "metadata": {},
   "outputs": [],
   "source": [
    "def create_model(input_shape=(input_shape[0],input_shape[1],3)):\n",
    "    return Sequential([\n",
    "        Input(shape=input_shape),\n",
    "        \n",
    "        Conv2D(8,(3,3), padding='same', input_shape=input_shape),\n",
    "        Activation('relu'),\n",
    "        MaxPooling2D(pool_size=(2,2)),\n",
    "        \n",
    "        Conv2D(16,(3,3), padding='same'),\n",
    "        Activation('relu'),\n",
    "        MaxPooling2D(pool_size=(2,2)),\n",
    "        \n",
    "        Conv2D(4,(3,3), padding='same'),\n",
    "        Activation('relu'),\n",
    "        MaxPooling2D(pool_size=(2,2)),\n",
    "        \n",
    "        Conv2D(4,(3,3), padding='same'),\n",
    "        Activation('relu'),\n",
    "        MaxPooling2D(pool_size=(2,2)),\n",
    "        \n",
    "        Flatten(),\n",
    "        \n",
    "        Dense(64),\n",
    "        Activation('relu'),\n",
    "        Dense(32),\n",
    "        Activation('relu'),\n",
    "        Dense(3),\n",
    "        Activation('softmax')\n",
    "])"
   ]
  },
  {
   "cell_type": "code",
   "execution_count": 38,
   "metadata": {},
   "outputs": [
    {
     "name": "stdout",
     "output_type": "stream",
     "text": [
      "Found 43104 images belonging to 3 classes.\n"
     ]
    }
   ],
   "source": [
    "train_datagen = ImageDataGenerator()\n",
    "train_generator = train_datagen.flow_from_directory(\n",
    "        './train',\n",
    "        target_size=input_shape,\n",
    "        batch_size=50,\n",
    "        class_mode='categorical',\n",
    "        seed=SEED)"
   ]
  },
  {
   "cell_type": "code",
   "execution_count": 39,
   "metadata": {},
   "outputs": [
    {
     "name": "stdout",
     "output_type": "stream",
     "text": [
      "WARNING:tensorflow:`period` argument is deprecated. Please use `save_freq` to specify the frequency in number of samples seen.\n"
     ]
    }
   ],
   "source": [
    "def root_mean_squared_error(y_true, y_pred):\n",
    "        return K.sqrt(K.mean(K.square(y_pred - y_true))) \n",
    "\n",
    "loss='categorical_crossentropy'\n",
    "LEARNING_RATE = 0.05\n",
    "BATCH_SIZE = 50\n",
    "EPOCHS = 4\n",
    "filename = './CNN-checkpoint-model.hdf5'\n",
    "callback = ModelCheckpoint(filename, monitor='loss', verbose=0,\n",
    "                             save_best_only=True, save_weights_only=False,\n",
    "                             mode='auto', #save_freq=1000)\n",
    "                             period=1)\n",
    "if isfile(filename):\n",
    "    model = load_model(filename, compile=False)\n",
    "else:\n",
    "    model = create_model()\n",
    "model.compile(loss=loss, optimizer='adamax', metrics=[root_mean_squared_error])"
   ]
  },
  {
   "cell_type": "code",
   "execution_count": 40,
   "metadata": {
    "scrolled": true
   },
   "outputs": [
    {
     "name": "stdout",
     "output_type": "stream",
     "text": [
      "Model: \"sequential_14\"\n",
      "_________________________________________________________________\n",
      "Layer (type)                 Output Shape              Param #   \n",
      "=================================================================\n",
      "conv2d_46 (Conv2D)           (None, 96, 96, 8)         224       \n",
      "_________________________________________________________________\n",
      "activation_88 (Activation)   (None, 96, 96, 8)         0         \n",
      "_________________________________________________________________\n",
      "max_pooling2d_46 (MaxPooling (None, 48, 48, 8)         0         \n",
      "_________________________________________________________________\n",
      "conv2d_47 (Conv2D)           (None, 48, 48, 16)        1168      \n",
      "_________________________________________________________________\n",
      "activation_89 (Activation)   (None, 48, 48, 16)        0         \n",
      "_________________________________________________________________\n",
      "max_pooling2d_47 (MaxPooling (None, 24, 24, 16)        0         \n",
      "_________________________________________________________________\n",
      "conv2d_48 (Conv2D)           (None, 24, 24, 4)         580       \n",
      "_________________________________________________________________\n",
      "activation_90 (Activation)   (None, 24, 24, 4)         0         \n",
      "_________________________________________________________________\n",
      "max_pooling2d_48 (MaxPooling (None, 12, 12, 4)         0         \n",
      "_________________________________________________________________\n",
      "conv2d_49 (Conv2D)           (None, 12, 12, 4)         148       \n",
      "_________________________________________________________________\n",
      "activation_91 (Activation)   (None, 12, 12, 4)         0         \n",
      "_________________________________________________________________\n",
      "max_pooling2d_49 (MaxPooling (None, 6, 6, 4)           0         \n",
      "_________________________________________________________________\n",
      "flatten_14 (Flatten)         (None, 144)               0         \n",
      "_________________________________________________________________\n",
      "dense_42 (Dense)             (None, 64)                9280      \n",
      "_________________________________________________________________\n",
      "activation_92 (Activation)   (None, 64)                0         \n",
      "_________________________________________________________________\n",
      "dense_43 (Dense)             (None, 32)                2080      \n",
      "_________________________________________________________________\n",
      "activation_93 (Activation)   (None, 32)                0         \n",
      "_________________________________________________________________\n",
      "dense_44 (Dense)             (None, 3)                 99        \n",
      "_________________________________________________________________\n",
      "activation_94 (Activation)   (None, 3)                 0         \n",
      "=================================================================\n",
      "Total params: 13,579\n",
      "Trainable params: 13,579\n",
      "Non-trainable params: 0\n",
      "_________________________________________________________________\n"
     ]
    }
   ],
   "source": [
    "model.summary()"
   ]
  },
  {
   "cell_type": "code",
   "execution_count": null,
   "metadata": {
    "scrolled": true
   },
   "outputs": [
    {
     "name": "stdout",
     "output_type": "stream",
     "text": [
      "Epoch 1/4\n",
      "837/863 [============================>.] - ETA: 3s - loss: 5.5633 - root_mean_squared_error: 0.4777"
     ]
    }
   ],
   "source": [
    "with tf.device('/device:CPU:0'):\n",
    "    train_generator.batch_size = BATCH_SIZE\n",
    "    history = model.fit_generator(train_generator, epochs=EPOCHS,\n",
    "                        verbose=1, callbacks=[callback])"
   ]
  },
  {
   "cell_type": "code",
   "execution_count": null,
   "metadata": {},
   "outputs": [],
   "source": [
    "DataFrame(history.history).plot(figsize=(8, 5))#, logy=True)\n",
    "plt.grid(True)\n",
    "#plt.gca().set_ylim(0, 1)\n",
    "plt.title('Model performance throughout training')\n",
    "plt.ylabel('Loss')\n",
    "plt.xlabel('epoch')\n",
    "plt.show()"
   ]
  },
  {
   "cell_type": "code",
   "execution_count": null,
   "metadata": {},
   "outputs": [],
   "source": [
    "valid_datagen = ImageDataGenerator()\n",
    "valid_generator = valid_datagen.flow_from_directory(\n",
    "        './test',\n",
    "        target_size=input_shape,\n",
    "        batch_size=50,\n",
    "        class_mode='categorical',\n",
    "        seed=SEED)"
   ]
  },
  {
   "cell_type": "code",
   "execution_count": null,
   "metadata": {},
   "outputs": [],
   "source": [
    "valid_generator.class_indices"
   ]
  },
  {
   "cell_type": "code",
   "execution_count": null,
   "metadata": {},
   "outputs": [],
   "source": [
    "with tf.device('/device:CPU:0'):\n",
    "    y_pred = model.predict_generator(valid_generator)\n",
    "y_pred.shape"
   ]
  },
  {
   "cell_type": "code",
   "execution_count": null,
   "metadata": {},
   "outputs": [],
   "source": [
    "valid_generator.batch_size = valid_generator.samples\n",
    "X_valid, y_valid = valid_generator.next()"
   ]
  },
  {
   "cell_type": "code",
   "execution_count": null,
   "metadata": {},
   "outputs": [],
   "source": [
    "y_valid.shape"
   ]
  },
  {
   "cell_type": "code",
   "execution_count": null,
   "metadata": {},
   "outputs": [],
   "source": [
    "y_pred.argmax(axis=1)"
   ]
  },
  {
   "cell_type": "code",
   "execution_count": null,
   "metadata": {},
   "outputs": [],
   "source": [
    "#y_train_class = y_batch.argmax(axis=1)\n",
    "#y_pred_class = y_pred.argmax(axis=1)\n",
    "conf_mat = confusion_matrix(y_valid.argmax(axis=1), y_pred.argmax(axis=1))\n",
    "plt.figure(figsize=(15,10))\n",
    "sns.heatmap(conf_mat,square=True, annot=True, fmt='.0f')\n",
    "plt.show()\n",
    "print('Accuracy=', accuracy_score(y_valid.argmax(axis=1), y_pred.argmax(axis=1)))"
   ]
  },
  {
   "cell_type": "code",
   "execution_count": null,
   "metadata": {},
   "outputs": [],
   "source": [
    "y_train_pred = model.predict_generator(train_generator)"
   ]
  },
  {
   "cell_type": "code",
   "execution_count": null,
   "metadata": {},
   "outputs": [],
   "source": [
    "train_generator.batch_size = train_generator.samples\n",
    "y_train = train_generator.next()[1]"
   ]
  },
  {
   "cell_type": "code",
   "execution_count": null,
   "metadata": {},
   "outputs": [],
   "source": [
    "y_train_class = y_train.argmax(axis=1)\n",
    "y_train_pred_class = y_train_pred.argmax(axis=1)\n",
    "conf_mat = confusion_matrix(y_train_class, y_train_pred_class)\n",
    "plt.figure(figsize=(15,10))\n",
    "sns.heatmap(conf_mat,square=True, annot=True, fmt='.0f')\n",
    "plt.show()\n",
    "print('Accuracy=', accuracy_score(y_train_class, y_train_pred_class))"
   ]
  },
  {
   "cell_type": "code",
   "execution_count": null,
   "metadata": {},
   "outputs": [],
   "source": []
  }
 ],
 "metadata": {
  "kernelspec": {
   "display_name": "Python 3",
   "language": "python",
   "name": "python3"
  },
  "language_info": {
   "codemirror_mode": {
    "name": "ipython",
    "version": 3
   },
   "file_extension": ".py",
   "mimetype": "text/x-python",
   "name": "python",
   "nbconvert_exporter": "python",
   "pygments_lexer": "ipython3",
   "version": "3.7.5"
  }
 },
 "nbformat": 4,
 "nbformat_minor": 2
}
