{
 "cells": [
  {
   "cell_type": "code",
   "execution_count": 1,
   "metadata": {},
   "outputs": [],
   "source": [
    "import cv2\n",
    "import numpy as np\n",
    "from pandas import DataFrame, read_csv\n",
    "from matplotlib import pyplot as plt\n",
    "from shutil import copy2\n",
    "from tensorflow.keras.preprocessing.image import ImageDataGenerator\n",
    "from tensorflow.keras.layers import (Dense, Activation, Input, Conv2D, MaxPooling2D, Flatten,\n",
    "                                     GlobalMaxPooling2D, LeakyReLU, concatenate, Dropout)\n",
    "from tensorflow.keras.models import Model, Sequential, load_model\n",
    "from tensorflow.keras.optimizers import SGD, RMSprop, Adam, Nadam, Adamax\n",
    "import tensorflow as tf\n",
    "from sklearn.model_selection import train_test_split\n",
    "from tensorflow.keras import backend as K\n",
    "from tensorflow.keras.callbacks import ModelCheckpoint\n",
    "from sklearn.metrics import confusion_matrix, accuracy_score\n",
    "import seaborn as sns\n",
    "from os.path import isfile"
   ]
  },
  {
   "cell_type": "code",
   "execution_count": 2,
   "metadata": {},
   "outputs": [],
   "source": [
    "SEED = 42"
   ]
  },
  {
   "cell_type": "code",
   "execution_count": 3,
   "metadata": {},
   "outputs": [],
   "source": [
    "y_filename='training_solutions_rev1.csv'\n",
    "y = read_csv(y_filename, index_col=0)[['Class1.1','Class1.2','Class1.3']]"
   ]
  },
  {
   "cell_type": "code",
   "execution_count": 4,
   "metadata": {},
   "outputs": [],
   "source": [
    "crop_shape = (256,256)\n",
    "input_shape = (96,96)"
   ]
  },
  {
   "cell_type": "code",
   "execution_count": 5,
   "metadata": {},
   "outputs": [],
   "source": [
    "def create_model(input_shape=(input_shape[0],input_shape[1],3)):\n",
    "    return Sequential([\n",
    "        Input(shape=input_shape),\n",
    "        \n",
    "        Conv2D(8,(3,3), padding='same', input_shape=input_shape),\n",
    "        Activation('relu'),\n",
    "        MaxPooling2D(pool_size=(2,2)),\n",
    "        \n",
    "        Conv2D(16,(3,3), padding='same'),\n",
    "        Activation('relu'),\n",
    "        MaxPooling2D(pool_size=(2,2)),\n",
    "        \n",
    "        Conv2D(8,(3,3), padding='same'),\n",
    "        Activation('relu'),\n",
    "        MaxPooling2D(pool_size=(2,2)),\n",
    "        \n",
    "        #Conv2D(4,(3,3), padding='same'),\n",
    "        #Activation('relu'),\n",
    "        #MaxPooling2D(pool_size=(2,2)),\n",
    "        \n",
    "        Flatten(),\n",
    "#        Dropout(0.05),\n",
    "\n",
    "        Dense(64),\n",
    "        Activation('relu'),\n",
    "        Dense(32),\n",
    "        Activation('relu'),\n",
    "        Dense(3),\n",
    "        Activation('softmax')\n",
    "])"
   ]
  },
  {
   "cell_type": "code",
   "execution_count": 6,
   "metadata": {},
   "outputs": [
    {
     "name": "stdout",
     "output_type": "stream",
     "text": [
      "Found 43104 images belonging to 3 classes.\n"
     ]
    }
   ],
   "source": [
    "train_datagen = ImageDataGenerator(rotation_range=180, zoom_range=0.1, horizontal_flip=True,\n",
    "                                   vertical_flip=True)\n",
    "train_generator = train_datagen.flow_from_directory(\n",
    "        './train',\n",
    "        target_size=input_shape,\n",
    "        batch_size=50,\n",
    "        class_mode='categorical',\n",
    "        seed=SEED)"
   ]
  },
  {
   "cell_type": "code",
   "execution_count": 7,
   "metadata": {},
   "outputs": [],
   "source": [
    "def root_mean_squared_error(y_true, y_pred):\n",
    "        return K.sqrt(K.mean(K.square(y_pred - y_true))) \n",
    "\n",
    "loss='categorical_crossentropy'\n",
    "LEARNING_RATE = 0.05\n",
    "BATCH_SIZE = 50\n",
    "EPOCHS = 10\n",
    "filename = './CNN-checkpoint-model.hdf5'\n",
    "callback = ModelCheckpoint(filename, monitor='loss', verbose=0,\n",
    "                             save_best_only=True, save_weights_only=False,\n",
    "                             mode='auto', save_freq='epoch')\n",
    "                             \n",
    "if isfile(filename):\n",
    "    model = load_model(filename, compile=False)\n",
    "else:\n",
    "    model = create_model()\n",
    "#model.compile(loss=loss, optimizer='adamax', metrics=[root_mean_squared_error])\n",
    "model.compile(loss=loss, optimizer='nadam', metrics=['acc',root_mean_squared_error])"
   ]
  },
  {
   "cell_type": "code",
   "execution_count": 8,
   "metadata": {
    "scrolled": true
   },
   "outputs": [
    {
     "name": "stdout",
     "output_type": "stream",
     "text": [
      "Model: \"sequential_1\"\n",
      "_________________________________________________________________\n",
      "Layer (type)                 Output Shape              Param #   \n",
      "=================================================================\n",
      "conv2d_3 (Conv2D)            (None, 96, 96, 8)         224       \n",
      "_________________________________________________________________\n",
      "activation_6 (Activation)    (None, 96, 96, 8)         0         \n",
      "_________________________________________________________________\n",
      "max_pooling2d_3 (MaxPooling2 (None, 48, 48, 8)         0         \n",
      "_________________________________________________________________\n",
      "conv2d_4 (Conv2D)            (None, 48, 48, 16)        1168      \n",
      "_________________________________________________________________\n",
      "activation_7 (Activation)    (None, 48, 48, 16)        0         \n",
      "_________________________________________________________________\n",
      "max_pooling2d_4 (MaxPooling2 (None, 24, 24, 16)        0         \n",
      "_________________________________________________________________\n",
      "conv2d_5 (Conv2D)            (None, 24, 24, 8)         1160      \n",
      "_________________________________________________________________\n",
      "activation_8 (Activation)    (None, 24, 24, 8)         0         \n",
      "_________________________________________________________________\n",
      "max_pooling2d_5 (MaxPooling2 (None, 12, 12, 8)         0         \n",
      "_________________________________________________________________\n",
      "flatten_1 (Flatten)          (None, 1152)              0         \n",
      "_________________________________________________________________\n",
      "dense_3 (Dense)              (None, 64)                73792     \n",
      "_________________________________________________________________\n",
      "activation_9 (Activation)    (None, 64)                0         \n",
      "_________________________________________________________________\n",
      "dense_4 (Dense)              (None, 32)                2080      \n",
      "_________________________________________________________________\n",
      "activation_10 (Activation)   (None, 32)                0         \n",
      "_________________________________________________________________\n",
      "dense_5 (Dense)              (None, 3)                 99        \n",
      "_________________________________________________________________\n",
      "activation_11 (Activation)   (None, 3)                 0         \n",
      "=================================================================\n",
      "Total params: 78,523\n",
      "Trainable params: 78,523\n",
      "Non-trainable params: 0\n",
      "_________________________________________________________________\n"
     ]
    }
   ],
   "source": [
    "model.summary()"
   ]
  },
  {
   "cell_type": "code",
   "execution_count": 9,
   "metadata": {},
   "outputs": [
    {
     "name": "stdout",
     "output_type": "stream",
     "text": [
      "Found 18474 images belonging to 3 classes.\n"
     ]
    }
   ],
   "source": [
    "valid_datagen = ImageDataGenerator()\n",
    "valid_generator = valid_datagen.flow_from_directory(\n",
    "        './test',\n",
    "        target_size=input_shape,\n",
    "        batch_size=50,\n",
    "        class_mode='categorical',\n",
    "        seed=SEED)"
   ]
  },
  {
   "cell_type": "code",
   "execution_count": 10,
   "metadata": {
    "scrolled": true
   },
   "outputs": [
    {
     "name": "stdout",
     "output_type": "stream",
     "text": [
      "Epoch 1/10\n",
      "863/863 [==============================] - 149s 173ms/step - loss: 0.3778 - acc: 0.8336 - root_mean_squared_error: 0.2790 - val_loss: 0.3577 - val_acc: 0.8500 - val_root_mean_squared_error: 0.2670\n",
      "Epoch 2/10\n",
      "863/863 [==============================] - 152s 176ms/step - loss: 0.3769 - acc: 0.8328 - root_mean_squared_error: 0.2787 - val_loss: 0.3515 - val_acc: 0.8400 - val_root_mean_squared_error: 0.2675\n",
      "Epoch 3/10\n",
      "863/863 [==============================] - 156s 181ms/step - loss: 0.3723 - acc: 0.8351 - root_mean_squared_error: 0.2769 - val_loss: 0.3264 - val_acc: 0.8760 - val_root_mean_squared_error: 0.2505\n",
      "Epoch 4/10\n",
      "863/863 [==============================] - 151s 175ms/step - loss: 0.3699 - acc: 0.8367 - root_mean_squared_error: 0.2760 - val_loss: 0.3195 - val_acc: 0.8780 - val_root_mean_squared_error: 0.2478\n",
      "Epoch 5/10\n",
      "863/863 [==============================] - 151s 175ms/step - loss: 0.3668 - acc: 0.8381 - root_mean_squared_error: 0.2748 - val_loss: 0.3689 - val_acc: 0.8440 - val_root_mean_squared_error: 0.2684\n",
      "Epoch 6/10\n",
      "863/863 [==============================] - 151s 175ms/step - loss: 0.3652 - acc: 0.8376 - root_mean_squared_error: 0.2743 - val_loss: 0.3091 - val_acc: 0.8680 - val_root_mean_squared_error: 0.2495\n",
      "Epoch 7/10\n",
      "863/863 [==============================] - 152s 176ms/step - loss: 0.3646 - acc: 0.8392 - root_mean_squared_error: 0.2735 - val_loss: 0.3089 - val_acc: 0.8780 - val_root_mean_squared_error: 0.2467\n",
      "Epoch 8/10\n",
      "863/863 [==============================] - 154s 179ms/step - loss: 0.3618 - acc: 0.8402 - root_mean_squared_error: 0.2731 - val_loss: 0.3337 - val_acc: 0.8700 - val_root_mean_squared_error: 0.2508\n",
      "Epoch 9/10\n",
      "863/863 [==============================] - 150s 174ms/step - loss: 0.3604 - acc: 0.8418 - root_mean_squared_error: 0.2720 - val_loss: 0.3327 - val_acc: 0.8640 - val_root_mean_squared_error: 0.2553\n",
      "Epoch 10/10\n",
      "863/863 [==============================] - 150s 174ms/step - loss: 0.3583 - acc: 0.8396 - root_mean_squared_error: 0.2716 - val_loss: 0.3274 - val_acc: 0.8680 - val_root_mean_squared_error: 0.2532\n"
     ]
    }
   ],
   "source": [
    "train_generator.shuffle=True\n",
    "valid_generator.shuffle=True\n",
    "with tf.device('/device:CPU:0'):\n",
    "    train_generator.batch_size = BATCH_SIZE\n",
    "    history = model.fit_generator(train_generator, epochs=EPOCHS, validation_data=valid_generator,\n",
    "                        validation_steps=10, verbose=1, callbacks=[callback])"
   ]
  },
  {
   "cell_type": "code",
   "execution_count": 11,
   "metadata": {
    "scrolled": true
   },
   "outputs": [
    {
     "data": {
      "image/png": "[encoded data removed]",
      "text/plain": [
       "<Figure size 576x360 with 1 Axes>"
      ]
     },
     "metadata": {
      "needs_background": "light"
     },
     "output_type": "display_data"
    }
   ],
   "source": [
    "DataFrame(history.history).plot(figsize=(8, 5))#, logy=True)\n",
    "plt.grid(True)\n",
    "#plt.gca().set_ylim(0, 1)\n",
    "plt.title('Model performance throughout training')\n",
    "plt.ylabel('Loss')\n",
    "plt.xlabel('epoch')\n",
    "plt.show()"
   ]
  },
  {
   "cell_type": "code",
   "execution_count": 12,
   "metadata": {},
   "outputs": [
    {
     "name": "stdout",
     "output_type": "stream",
     "text": [
      "Found 18474 images belonging to 3 classes.\n"
     ]
    }
   ],
   "source": [
    "valid_generator_eval = valid_datagen.flow_from_directory(\n",
    "        './test',\n",
    "        target_size=input_shape,\n",
    "        batch_size=50,\n",
    "        class_mode='categorical',\n",
    "        shuffle=False,\n",
    "        seed=SEED)"
   ]
  },
  {
   "cell_type": "code",
   "execution_count": 13,
   "metadata": {},
   "outputs": [
    {
     "data": {
      "text/plain": [
       "(18474, 3)"
      ]
     },
     "execution_count": 13,
     "metadata": {},
     "output_type": "execute_result"
    }
   ],
   "source": [
    "y_pred = model.predict_generator(valid_generator_eval)\n",
    "y_pred.shape"
   ]
  },
  {
   "cell_type": "code",
   "execution_count": 14,
   "metadata": {},
   "outputs": [],
   "source": [
    "valid_generator_eval.batch_size = valid_generator_eval.samples\n",
    "y_valid = valid_generator_eval.next()[1]"
   ]
  },
  {
   "cell_type": "code",
   "execution_count": 15,
   "metadata": {},
   "outputs": [
    {
     "data": {
      "text/plain": [
       "(18474, 3)"
      ]
     },
     "execution_count": 15,
     "metadata": {},
     "output_type": "execute_result"
    }
   ],
   "source": [
    "y_valid.shape"
   ]
  },
  {
   "cell_type": "code",
   "execution_count": 16,
   "metadata": {},
   "outputs": [
    {
     "data": {
      "text/plain": [
       "array([0, 0, 0, ..., 0, 1, 1])"
      ]
     },
     "execution_count": 16,
     "metadata": {},
     "output_type": "execute_result"
    }
   ],
   "source": [
    "y_pred.argmax(axis=1)"
   ]
  },
  {
   "cell_type": "code",
   "execution_count": 17,
   "metadata": {},
   "outputs": [
    {
     "data": {
      "image/png": "[encoded data removed]",
      "text/plain": [
       "<Figure size 1080x720 with 2 Axes>"
      ]
     },
     "metadata": {
      "needs_background": "light"
     },
     "output_type": "display_data"
    },
    {
     "name": "stdout",
     "output_type": "stream",
     "text": [
      "Accuracy= 0.841885893688427\n"
     ]
    }
   ],
   "source": [
    "y_valid_class = y_valid.argmax(axis=1)\n",
    "y_valid_pred_class = y_pred.argmax(axis=1)\n",
    "conf_mat = confusion_matrix(y_valid_class, y_valid_pred_class)\n",
    "plt.figure(figsize=(15,10))\n",
    "sns.heatmap(conf_mat,square=True, annot=True, fmt='.0f')\n",
    "plt.show()\n",
    "print('Accuracy=', accuracy_score(y_valid_class, y_valid_pred_class))"
   ]
  },
  {
   "cell_type": "code",
   "execution_count": 19,
   "metadata": {},
   "outputs": [],
   "source": []
  },
  {
   "cell_type": "code",
   "execution_count": null,
   "metadata": {},
   "outputs": [],
   "source": []
  }
 ],
 "metadata": {
  "kernelspec": {
   "display_name": "Python 3",
   "language": "python",
   "name": "python3"
  },
  "language_info": {
   "codemirror_mode": {
    "name": "ipython",
    "version": 3
   },
   "file_extension": ".py",
   "mimetype": "text/x-python",
   "name": "python",
   "nbconvert_exporter": "python",
   "pygments_lexer": "ipython3",
   "version": "3.7.5"
  },
  "toc": {
   "base_numbering": 1,
   "nav_menu": {},
   "number_sections": true,
   "sideBar": true,
   "skip_h1_title": false,
   "title_cell": "Table of Contents",
   "title_sidebar": "Contents",
   "toc_cell": false,
   "toc_position": {},
   "toc_section_display": true,
   "toc_window_display": false
  }
 },
 "nbformat": 4,
 "nbformat_minor": 2
}
