{
 "cells": [
  {
   "cell_type": "code",
   "execution_count": 47,
   "metadata": {},
   "outputs": [],
   "source": [
    "import cv2\n",
    "import numpy as np\n",
    "from pandas import DataFrame, read_csv\n",
    "from matplotlib import pyplot as plt\n",
    "from shutil import copy2\n",
    "from tensorflow.keras.layers import (Dense, Activation, Input, Conv2D, MaxPooling2D, Flatten,\n",
    "                                     GlobalMaxPooling2D, LeakyReLU, concatenate, Dropout)\n",
    "from tensorflow.keras.models import Model, Sequential, load_model\n",
    "from tensorflow.keras.optimizers import SGD,RMSprop,Adam\n",
    "import tensorflow as tf\n",
    "from sklearn.model_selection import train_test_split\n",
    "from tensorflow.keras import backend as K\n",
    "from tensorflow.keras.callbacks import ModelCheckpoint\n",
    "from os.path import isfile"
   ]
  },
  {
   "cell_type": "code",
   "execution_count": 48,
   "metadata": {},
   "outputs": [],
   "source": [
    "y_filename='training_solutions_rev1.csv'\n",
    "y = read_csv(y_filename, index_col=0)[['Class1.1','Class1.2','Class1.3']]"
   ]
  },
  {
   "cell_type": "code",
   "execution_count": 49,
   "metadata": {},
   "outputs": [],
   "source": [
    "def isolate(image, feather=(30,30)):\n",
    "    image = image.copy()\n",
    "    gray = cv2.cvtColor(image, cv2.COLOR_BGR2GRAY)\n",
    "    gray = cv2.blur(gray,(5,5))\n",
    "\n",
    "    blur = cv2.blur(image,(30,30))\n",
    "\n",
    "    ret, thresh = cv2.threshold(gray,0,255,cv2.THRESH_OTSU)\n",
    "\n",
    "    ret, markers = cv2.connectedComponents(thresh)\n",
    "    markers = cv2.watershed(blur,markers)\n",
    "    centergroup= markers[212,212]\n",
    "\n",
    "    mask = np.array(markers).astype(np.uint8)\n",
    "    mask[:,:]=0\n",
    "    mask[markers == centergroup] = 255\n",
    "\n",
    "    kernel = cv2.getStructuringElement(cv2.MORPH_ELLIPSE, feather)\n",
    "    mask = cv2.dilate(mask,kernel,iterations = 1)\n",
    "    mask = cv2.blur(mask, feather).astype(float)\n",
    "\n",
    "    for i in range(3):\n",
    "        image[:,:,i] = (image[:,:,i] * mask/255.0).astype(np.uint8)\n",
    "    return image"
   ]
  },
  {
   "cell_type": "code",
   "execution_count": 50,
   "metadata": {},
   "outputs": [],
   "source": [
    "def crop(image, size=(128,128)):\n",
    "    centerx = image.shape[0]//2\n",
    "    centery = image.shape[1]//2\n",
    "    hheight = size[0]//2\n",
    "    hwidth = size[1]//2\n",
    "    return image[centerx-hwidth:centerx+hwidth, centery-hheight:centery+hheight]"
   ]
  },
  {
   "cell_type": "code",
   "execution_count": 51,
   "metadata": {},
   "outputs": [],
   "source": [
    "def black_crop(image):\n",
    "    mask = image[:,:,1].copy()\n",
    "    mask[:,:]=255\n",
    "    mask[image[:,:,1]==0]=0\n",
    "    \n",
    "    minx=413\n",
    "    maxx=0\n",
    "    maskx=mask.sum(axis=1)\n",
    "    \n",
    "    for i,val in enumerate(maskx):\n",
    "        if val!=0 and i < minx:\n",
    "            minx = i\n",
    "        if val!=0 and i > maxx:\n",
    "            maxx = i\n",
    "    \n",
    "    miny=413\n",
    "    maxy=0\n",
    "    masky=mask.sum(axis=0)\n",
    "    for i,val in enumerate(masky):\n",
    "        if val!=0 and i < miny:\n",
    "            miny = i\n",
    "        if val!=0 and i > maxy:\n",
    "            maxy = i\n",
    "    centerx = (minx+maxx)//2\n",
    "    centery = (miny+maxy)//2\n",
    "    image = image[centerx-128:centerx+128, centery-128:centery+128]\n",
    "    #image = image[minx:maxx, miny:maxy]\n",
    "    return image"
   ]
  },
  {
   "cell_type": "code",
   "execution_count": null,
   "metadata": {},
   "outputs": [],
   "source": []
  },
  {
   "cell_type": "code",
   "execution_count": 52,
   "metadata": {},
   "outputs": [],
   "source": [
    "def separate_Lab(image):\n",
    "    imageLab = cv2.cvtColor(image, cv2.COLOR_BGR2Lab)\n",
    "    #plt.imshow(imageLab)\n",
    "    imageL = cv2.resize(imageLab[:,:,0], (128,128))\n",
    "    imageA = cv2.resize(imageLab[:,:,1], (64,64))\n",
    "    imageB = cv2.resize(imageLab[:,:,2], (64,64))\n",
    "    return [imageL, imageA, imageB]"
   ]
  },
  {
   "cell_type": "code",
   "execution_count": 53,
   "metadata": {},
   "outputs": [],
   "source": [
    "def get_model():\n",
    "    return Sequential([\n",
    "        Input(shape=(256,256,3)),\n",
    "        Conv2D(128,(3,3),input_shape=(256,256,3)),\n",
    "        Activation('relu'),\n",
    "        MaxPooling2D(pool_size=(2,2)),\n",
    "        Conv2D(64,(3,3)),\n",
    "        Activation('relu'),\n",
    "        GlobalMaxPooling2D(),\n",
    "        Dense(64),\n",
    "        Activation('relu'),\n",
    "        Dense(3),\n",
    "        Activation('sigmoid')\n",
    "])"
   ]
  },
  {
   "cell_type": "code",
   "execution_count": 54,
   "metadata": {},
   "outputs": [],
   "source": [
    "def create_con2d(image, shape, filters):\n",
    "    model = Conv2D(filters, (3, 3), padding='same',  input_shape=shape)(image)\n",
    "    #model = Conv2D(filters//2, (3, 3), padding='same', input_shape=shape)(image)\n",
    "    model = Activation('relu')(model)\n",
    "    model = MaxPooling2D((2, 2), padding='same')(model)\n",
    "    return model\n",
    "\n",
    "def create_dense(model, size):\n",
    "    #model = Dropout(0.25)(model)\n",
    "    model = Dense(64)(model)\n",
    "    model = Activation('relu')(model)\n",
    "    return model\n",
    "    \n",
    "def get_fun_model():\n",
    "    shape_L = (128,128,1)\n",
    "    shape_a = (64,64,1)\n",
    "    shape_b = (64,64,1)\n",
    "    \n",
    "    input_L = Input(shape=shape_L)\n",
    "    input_a = Input(shape=shape_a)\n",
    "    input_b = Input(shape=shape_b)\n",
    "    \n",
    "    conv_L = create_con2d(input_L, shape_L, 4)\n",
    "\n",
    "    model = concatenate([conv_L, input_a, input_b])\n",
    "    \n",
    "    model = create_con2d(model,(64,64,1), 4)\n",
    "    model = create_con2d(model,(32,32,1), 4)\n",
    "    model = create_con2d(model,(16,16,1), 2)\n",
    "        \n",
    "    model = Flatten()(model)\n",
    "    \n",
    "    model = create_dense(model, 16)\n",
    "    model = create_dense(model, 8)\n",
    "    \n",
    "    model = Dense(3)(model)\n",
    "    #output = Activation('sigmoid')(model)\n",
    "    output = Activation('softmax')(model)\n",
    "    \n",
    "    model = Model(inputs=[input_L, input_a, input_b], outputs=[output])\n",
    "    \n",
    "    return model"
   ]
  },
  {
   "cell_type": "code",
   "execution_count": 55,
   "metadata": {},
   "outputs": [],
   "source": [
    "y_train, y_test = train_test_split(y, test_size=0.2)"
   ]
  },
  {
   "cell_type": "code",
   "execution_count": 16,
   "metadata": {
    "deletable": false,
    "editable": false,
    "run_control": {
     "frozen": true
    }
   },
   "outputs": [],
   "source": [
    "sample_size=1000\n",
    "\n",
    "y_batch = y_train[0:sample_size]\n",
    "x_batch = []\n",
    "dir = './images_training_rev1/'\n",
    "for i in range(sample_size):\n",
    "    filename = dir + str(y.index[i]) + '.jpg'\n",
    "    img =  cv2.imread(filename)\n",
    "    x_batch.append(black_crop(isolate(img))/255.0)\n",
    "\n",
    "y_batch = y_batch[['Class1.1','Class1.2','Class1.3']].to_numpy().astype(np.float16)\n",
    "x_batch = np.asarray(x_batch).astype(np.float16)"
   ]
  },
  {
   "cell_type": "code",
   "execution_count": 56,
   "metadata": {},
   "outputs": [],
   "source": [
    "sample_size=1000\n",
    "\n",
    "y_batch = y_train[0:sample_size]\n",
    "x_batchL = []\n",
    "x_batcha = []\n",
    "x_batchb = []\n",
    "dir = './images_training_rev1/'\n",
    "for i in range(sample_size):\n",
    "    filename = dir + str(y.index[i]) + '.jpg'\n",
    "    img =  cv2.imread(filename)\n",
    "    images = separate_Lab(black_crop(isolate(img)))\n",
    "    # print(images[2].shape)\n",
    "    x_batchL.append(images[0]/255)\n",
    "    x_batcha.append(images[1]/255)\n",
    "    x_batchb.append(images[2]/255)\n",
    "\n",
    "y_batch = y_batch[['Class1.1','Class1.2','Class1.3']].to_numpy().astype(np.float16)\n",
    "x_batchL = np.asarray(x_batchL).astype(np.float16).reshape(sample_size,128,128,1)\n",
    "x_batcha = np.asarray(x_batcha).astype(np.float16).reshape(sample_size,64,64,1)\n",
    "x_batchb = np.asarray(x_batchb).astype(np.float16).reshape(sample_size,64,64,1)\n",
    "\n"
   ]
  },
  {
   "cell_type": "code",
   "execution_count": 57,
   "metadata": {},
   "outputs": [
    {
     "data": {
      "image/png": "[encoded data removed]",
      "text/plain": [
       "<Figure size 1296x432 with 3 Axes>"
      ]
     },
     "metadata": {
      "needs_background": "light"
     },
     "output_type": "display_data"
    }
   ],
   "source": [
    "plt.figure(figsize=(18,6))\n",
    "plt.subplot(1,3,1)\n",
    "plt.imshow((x_batchL[5,:,:,0]*255).astype(np.uint8))\n",
    "plt.subplot(1,3,2)\n",
    "plt.imshow((x_batcha[5,:,:,0]*255).astype(np.uint8))\n",
    "plt.subplot(1,3,3)\n",
    "plt.imshow((x_batchb[5,:,:,0]*255).astype(np.uint8))\n",
    "plt.show()"
   ]
  },
  {
   "cell_type": "code",
   "execution_count": 11,
   "metadata": {
    "deletable": false,
    "editable": false,
    "run_control": {
     "frozen": true
    }
   },
   "outputs": [
    {
     "name": "stdout",
     "output_type": "stream",
     "text": [
      "Model: \"sequential\"\n",
      "_________________________________________________________________\n",
      "Layer (type)                 Output Shape              Param #   \n",
      "=================================================================\n",
      "conv2d (Conv2D)              (None, 254, 254, 128)     3584      \n",
      "_________________________________________________________________\n",
      "activation (Activation)      (None, 254, 254, 128)     0         \n",
      "_________________________________________________________________\n",
      "max_pooling2d (MaxPooling2D) (None, 127, 127, 128)     0         \n",
      "_________________________________________________________________\n",
      "conv2d_1 (Conv2D)            (None, 125, 125, 128)     147584    \n",
      "_________________________________________________________________\n",
      "activation_1 (Activation)    (None, 125, 125, 128)     0         \n",
      "_________________________________________________________________\n",
      "global_max_pooling2d (Global (None, 128)               0         \n",
      "_________________________________________________________________\n",
      "dense (Dense)                (None, 3)                 387       \n",
      "_________________________________________________________________\n",
      "activation_2 (Activation)    (None, 3)                 0         \n",
      "=================================================================\n",
      "Total params: 151,555\n",
      "Trainable params: 151,555\n",
      "Non-trainable params: 0\n",
      "_________________________________________________________________\n"
     ]
    }
   ],
   "source": [
    "loss='categorical_crossentropy'\n",
    "LEARNING_RATE = 0.01\n",
    "BATCH_SIZE = 20 # computing the loss over the whole dataset\n",
    "EPOCHS = 3\n",
    "model = get_model()\n",
    "model.compile(loss=loss, optimizer='adamax', metrics=['accuracy'])\n",
    "model.summary()"
   ]
  },
  {
   "cell_type": "code",
   "execution_count": 245,
   "metadata": {
    "deletable": false,
    "editable": false,
    "run_control": {
     "frozen": true
    }
   },
   "outputs": [
    {
     "name": "stdout",
     "output_type": "stream",
     "text": [
      "Train on 1000 samples\n",
      "Epoch 1/3\n",
      "1000/1000 [==============================] - 127s 127ms/sample - loss: 0.8055 - accuracy: 0.5560\n",
      "Epoch 2/3\n",
      "1000/1000 [==============================] - 125s 125ms/sample - loss: 0.7806 - accuracy: 0.5690\n",
      "Epoch 3/3\n",
      "1000/1000 [==============================] - 126s 126ms/sample - loss: 0.7804 - accuracy: 0.5690\n"
     ]
    }
   ],
   "source": [
    "with tf.device('/device:CPU:0'):\n",
    "    history = model.fit(x_batch,y_batch, epochs=EPOCHS, batch_size=BATCH_SIZE, verbose=1)"
   ]
  },
  {
   "cell_type": "code",
   "execution_count": 246,
   "metadata": {
    "deletable": false,
    "editable": false,
    "run_control": {
     "frozen": true
    }
   },
   "outputs": [
    {
     "data": {
      "image/png": "[encoded data removed]",
      "text/plain": [
       "<Figure size 576x360 with 1 Axes>"
      ]
     },
     "metadata": {
      "needs_background": "light"
     },
     "output_type": "display_data"
    }
   ],
   "source": [
    "DataFrame(history.history).plot(figsize=(8, 5))#, logy=True)\n",
    "plt.grid(True)\n",
    "#plt.gca().set_ylim(0, 1)\n",
    "plt.title('Model performance throughout training')\n",
    "plt.ylabel('Loss')\n",
    "plt.xlabel('epoch')\n",
    "plt.show()"
   ]
  },
  {
   "cell_type": "code",
   "execution_count": 247,
   "metadata": {
    "deletable": false,
    "editable": false,
    "run_control": {
     "frozen": true
    }
   },
   "outputs": [],
   "source": [
    "with tf.device('/device:CPU:0'):\n",
    "    y_pred = model.predict(x_batch.astype(np.float16))"
   ]
  },
  {
   "cell_type": "code",
   "execution_count": 248,
   "metadata": {
    "deletable": false,
    "editable": false,
    "run_control": {
     "frozen": true
    }
   },
   "outputs": [
    {
     "data": {
      "text/plain": [
       "(array([[0.7652117 , 0.94180405, 0.02477583],\n",
       "        [0.7521488 , 0.9315028 , 0.03112078],\n",
       "        [0.77038836, 0.9459208 , 0.02225083],\n",
       "        ...,\n",
       "        [0.7466464 , 0.9305258 , 0.03124222],\n",
       "        [0.7299855 , 0.9083406 , 0.04599613],\n",
       "        [0.73018444, 0.90871596, 0.04623601]], dtype=float32),\n",
       " array([[0.361   , 0.639   , 0.      ],\n",
       "        [0.2094  , 0.7744  , 0.0162  ],\n",
       "        [0.1542  , 0.8433  , 0.002571],\n",
       "        ...,\n",
       "        [0.1844  , 0.8086  , 0.00706 ],\n",
       "        [0.3684  , 0.538   , 0.09344 ],\n",
       "        [0.2002  , 0.7954  , 0.004326]], dtype=float16))"
      ]
     },
     "execution_count": 248,
     "metadata": {},
     "output_type": "execute_result"
    }
   ],
   "source": [
    "y_pred, y_batch"
   ]
  },
  {
   "cell_type": "code",
   "execution_count": 63,
   "metadata": {},
   "outputs": [],
   "source": [
    "def root_mean_squared_error(y_true, y_pred):\n",
    "        return K.sqrt(K.mean(K.square(y_pred - y_true))) \n",
    "\n",
    "loss='categorical_crossentropy'\n",
    "LEARNING_RATE = 0.01\n",
    "BATCH_SIZE = 50 # computing the loss over the whole dataset\n",
    "EPOCHS = 50\n",
    "filename = './CNN-checkpoint-model.hdf5'\n",
    "callback = ModelCheckpoint(filename, monitor='loss', verbose=0,\n",
    "                             save_best_only=True, save_weights_only=False,\n",
    "                             mode='auto', save_freq=sample_size)\n",
    "if isfile(filename):\n",
    "    model = load_model(filename, compile=False)\n",
    "else:\n",
    "    model = get_fun_model()\n",
    "model.compile(loss=loss, optimizer='adamax', metrics=[root_mean_squared_error])"
   ]
  },
  {
   "cell_type": "code",
   "execution_count": 64,
   "metadata": {},
   "outputs": [
    {
     "name": "stdout",
     "output_type": "stream",
     "text": [
      "Model: \"model_1\"\n",
      "__________________________________________________________________________________________________\n",
      "Layer (type)                    Output Shape         Param #     Connected to                     \n",
      "==================================================================================================\n",
      "input_4 (InputLayer)            [(None, 128, 128, 1) 0                                            \n",
      "__________________________________________________________________________________________________\n",
      "conv2d_4 (Conv2D)               (None, 128, 128, 4)  40          input_4[0][0]                    \n",
      "__________________________________________________________________________________________________\n",
      "activation_7 (Activation)       (None, 128, 128, 4)  0           conv2d_4[0][0]                   \n",
      "__________________________________________________________________________________________________\n",
      "max_pooling2d_4 (MaxPooling2D)  (None, 64, 64, 4)    0           activation_7[0][0]               \n",
      "__________________________________________________________________________________________________\n",
      "input_5 (InputLayer)            [(None, 64, 64, 1)]  0                                            \n",
      "__________________________________________________________________________________________________\n",
      "input_6 (InputLayer)            [(None, 64, 64, 1)]  0                                            \n",
      "__________________________________________________________________________________________________\n",
      "concatenate_1 (Concatenate)     (None, 64, 64, 6)    0           max_pooling2d_4[0][0]            \n",
      "                                                                 input_5[0][0]                    \n",
      "                                                                 input_6[0][0]                    \n",
      "__________________________________________________________________________________________________\n",
      "conv2d_5 (Conv2D)               (None, 64, 64, 4)    220         concatenate_1[0][0]              \n",
      "__________________________________________________________________________________________________\n",
      "activation_8 (Activation)       (None, 64, 64, 4)    0           conv2d_5[0][0]                   \n",
      "__________________________________________________________________________________________________\n",
      "max_pooling2d_5 (MaxPooling2D)  (None, 32, 32, 4)    0           activation_8[0][0]               \n",
      "__________________________________________________________________________________________________\n",
      "conv2d_6 (Conv2D)               (None, 32, 32, 4)    148         max_pooling2d_5[0][0]            \n",
      "__________________________________________________________________________________________________\n",
      "activation_9 (Activation)       (None, 32, 32, 4)    0           conv2d_6[0][0]                   \n",
      "__________________________________________________________________________________________________\n",
      "max_pooling2d_6 (MaxPooling2D)  (None, 16, 16, 4)    0           activation_9[0][0]               \n",
      "__________________________________________________________________________________________________\n",
      "conv2d_7 (Conv2D)               (None, 16, 16, 2)    74          max_pooling2d_6[0][0]            \n",
      "__________________________________________________________________________________________________\n",
      "activation_10 (Activation)      (None, 16, 16, 2)    0           conv2d_7[0][0]                   \n",
      "__________________________________________________________________________________________________\n",
      "max_pooling2d_7 (MaxPooling2D)  (None, 8, 8, 2)      0           activation_10[0][0]              \n",
      "__________________________________________________________________________________________________\n",
      "flatten_1 (Flatten)             (None, 128)          0           max_pooling2d_7[0][0]            \n",
      "__________________________________________________________________________________________________\n",
      "dense_3 (Dense)                 (None, 64)           8256        flatten_1[0][0]                  \n",
      "__________________________________________________________________________________________________\n",
      "activation_11 (Activation)      (None, 64)           0           dense_3[0][0]                    \n",
      "__________________________________________________________________________________________________\n",
      "dense_4 (Dense)                 (None, 64)           4160        activation_11[0][0]              \n",
      "__________________________________________________________________________________________________\n",
      "activation_12 (Activation)      (None, 64)           0           dense_4[0][0]                    \n",
      "__________________________________________________________________________________________________\n",
      "dense_5 (Dense)                 (None, 3)            195         activation_12[0][0]              \n",
      "__________________________________________________________________________________________________\n",
      "activation_13 (Activation)      (None, 3)            0           dense_5[0][0]                    \n",
      "==================================================================================================\n",
      "Total params: 13,093\n",
      "Trainable params: 13,093\n",
      "Non-trainable params: 0\n",
      "__________________________________________________________________________________________________\n"
     ]
    }
   ],
   "source": [
    "model.summary()"
   ]
  },
  {
   "cell_type": "code",
   "execution_count": 65,
   "metadata": {
    "scrolled": true
   },
   "outputs": [
    {
     "name": "stdout",
     "output_type": "stream",
     "text": [
      "Train on 1000 samples\n",
      "Epoch 1/50\n",
      "1000/1000 [==============================] - 3s 3ms/sample - loss: 0.7841 - root_mean_squared_error: 0.2332\n",
      "Epoch 2/50\n",
      "1000/1000 [==============================] - 2s 2ms/sample - loss: 0.7832 - root_mean_squared_error: 0.2324\n",
      "Epoch 3/50\n",
      "1000/1000 [==============================] - 2s 2ms/sample - loss: 0.7842 - root_mean_squared_error: 0.2331\n",
      "Epoch 4/50\n",
      "1000/1000 [==============================] - 2s 2ms/sample - loss: 0.7827 - root_mean_squared_error: 0.2323\n",
      "Epoch 5/50\n",
      "1000/1000 [==============================] - 2s 2ms/sample - loss: 0.7829 - root_mean_squared_error: 0.2326\n",
      "Epoch 6/50\n",
      "1000/1000 [==============================] - 2s 2ms/sample - loss: 0.7827 - root_mean_squared_error: 0.2326\n",
      "Epoch 7/50\n",
      "1000/1000 [==============================] - 2s 2ms/sample - loss: 0.7826 - root_mean_squared_error: 0.2323\n",
      "Epoch 8/50\n",
      "1000/1000 [==============================] - 2s 2ms/sample - loss: 0.7829 - root_mean_squared_error: 0.2324\n",
      "Epoch 9/50\n",
      "1000/1000 [==============================] - 2s 2ms/sample - loss: 0.7828 - root_mean_squared_error: 0.2322\n",
      "Epoch 10/50\n",
      "1000/1000 [==============================] - 2s 2ms/sample - loss: 0.7826 - root_mean_squared_error: 0.2322\n",
      "Epoch 11/50\n",
      "1000/1000 [==============================] - 2s 2ms/sample - loss: 0.7828 - root_mean_squared_error: 0.2326\n",
      "Epoch 12/50\n",
      "1000/1000 [==============================] - 2s 2ms/sample - loss: 0.7833 - root_mean_squared_error: 0.2329\n",
      "Epoch 13/50\n",
      "1000/1000 [==============================] - 2s 2ms/sample - loss: 0.7829 - root_mean_squared_error: 0.2325\n",
      "Epoch 14/50\n",
      "1000/1000 [==============================] - 2s 2ms/sample - loss: 0.7830 - root_mean_squared_error: 0.2325\n",
      "Epoch 15/50\n",
      "1000/1000 [==============================] - 2s 2ms/sample - loss: 0.7827 - root_mean_squared_error: 0.2325\n",
      "Epoch 16/50\n",
      "1000/1000 [==============================] - 2s 2ms/sample - loss: 0.7828 - root_mean_squared_error: 0.2327\n",
      "Epoch 17/50\n",
      "1000/1000 [==============================] - 2s 2ms/sample - loss: 0.7829 - root_mean_squared_error: 0.2324\n",
      "Epoch 18/50\n",
      "1000/1000 [==============================] - 2s 2ms/sample - loss: 0.7830 - root_mean_squared_error: 0.2326\n",
      "Epoch 19/50\n",
      "1000/1000 [==============================] - 2s 2ms/sample - loss: 0.7838 - root_mean_squared_error: 0.2330\n",
      "Epoch 20/50\n",
      "1000/1000 [==============================] - 2s 2ms/sample - loss: 0.7836 - root_mean_squared_error: 0.2326\n",
      "Epoch 21/50\n",
      "1000/1000 [==============================] - 2s 2ms/sample - loss: 0.7834 - root_mean_squared_error: 0.2327\n",
      "Epoch 22/50\n",
      "1000/1000 [==============================] - 2s 2ms/sample - loss: 0.7835 - root_mean_squared_error: 0.2329\n",
      "Epoch 23/50\n",
      "1000/1000 [==============================] - 2s 2ms/sample - loss: 0.7826 - root_mean_squared_error: 0.2322\n",
      "Epoch 24/50\n",
      "1000/1000 [==============================] - 2s 2ms/sample - loss: 0.7829 - root_mean_squared_error: 0.2324\n",
      "Epoch 25/50\n",
      "1000/1000 [==============================] - 2s 2ms/sample - loss: 0.7832 - root_mean_squared_error: 0.2327\n",
      "Epoch 26/50\n",
      "1000/1000 [==============================] - 2s 2ms/sample - loss: 0.7832 - root_mean_squared_error: 0.2326\n",
      "Epoch 27/50\n",
      "1000/1000 [==============================] - 2s 2ms/sample - loss: 0.7833 - root_mean_squared_error: 0.2329\n",
      "Epoch 28/50\n",
      "1000/1000 [==============================] - 2s 2ms/sample - loss: 0.7829 - root_mean_squared_error: 0.2327\n",
      "Epoch 29/50\n",
      "1000/1000 [==============================] - 2s 2ms/sample - loss: 0.7830 - root_mean_squared_error: 0.2321\n",
      "Epoch 30/50\n",
      "1000/1000 [==============================] - 2s 2ms/sample - loss: 0.7828 - root_mean_squared_error: 0.2322\n",
      "Epoch 31/50\n",
      "1000/1000 [==============================] - 2s 2ms/sample - loss: 0.7835 - root_mean_squared_error: 0.2329\n",
      "Epoch 32/50\n",
      "1000/1000 [==============================] - 2s 2ms/sample - loss: 0.7833 - root_mean_squared_error: 0.2327\n",
      "Epoch 33/50\n",
      "1000/1000 [==============================] - 2s 2ms/sample - loss: 0.7827 - root_mean_squared_error: 0.2324\n",
      "Epoch 34/50\n",
      "1000/1000 [==============================] - 2s 2ms/sample - loss: 0.7834 - root_mean_squared_error: 0.2328\n",
      "Epoch 35/50\n",
      "1000/1000 [==============================] - 2s 2ms/sample - loss: 0.7832 - root_mean_squared_error: 0.2329\n",
      "Epoch 36/50\n",
      "1000/1000 [==============================] - 2s 2ms/sample - loss: 0.7831 - root_mean_squared_error: 0.2327\n",
      "Epoch 37/50\n",
      "1000/1000 [==============================] - 2s 2ms/sample - loss: 0.7827 - root_mean_squared_error: 0.2323\n",
      "Epoch 38/50\n",
      "1000/1000 [==============================] - 2s 2ms/sample - loss: 0.7829 - root_mean_squared_error: 0.2322\n",
      "Epoch 39/50\n",
      "1000/1000 [==============================] - 2s 2ms/sample - loss: 0.7830 - root_mean_squared_error: 0.2328\n",
      "Epoch 40/50\n",
      "1000/1000 [==============================] - 2s 2ms/sample - loss: 0.7838 - root_mean_squared_error: 0.2331\n",
      "Epoch 41/50\n",
      "1000/1000 [==============================] - 2s 2ms/sample - loss: 0.7832 - root_mean_squared_error: 0.2326\n",
      "Epoch 42/50\n",
      "1000/1000 [==============================] - 2s 2ms/sample - loss: 0.7833 - root_mean_squared_error: 0.2327\n",
      "Epoch 43/50\n",
      "1000/1000 [==============================] - 2s 2ms/sample - loss: 0.7832 - root_mean_squared_error: 0.2325\n",
      "Epoch 44/50\n",
      "1000/1000 [==============================] - 2s 2ms/sample - loss: 0.7827 - root_mean_squared_error: 0.2324\n",
      "Epoch 45/50\n",
      "1000/1000 [==============================] - 2s 2ms/sample - loss: 0.7830 - root_mean_squared_error: 0.2323\n",
      "Epoch 46/50\n",
      "1000/1000 [==============================] - 2s 2ms/sample - loss: 0.7831 - root_mean_squared_error: 0.2329\n",
      "Epoch 47/50\n",
      "1000/1000 [==============================] - 2s 2ms/sample - loss: 0.7833 - root_mean_squared_error: 0.2324\n",
      "Epoch 48/50\n",
      "1000/1000 [==============================] - 2s 2ms/sample - loss: 0.7833 - root_mean_squared_error: 0.2328\n",
      "Epoch 49/50\n",
      "1000/1000 [==============================] - 2s 2ms/sample - loss: 0.7828 - root_mean_squared_error: 0.2324\n",
      "Epoch 50/50\n",
      "1000/1000 [==============================] - 2s 2ms/sample - loss: 0.7827 - root_mean_squared_error: 0.2326\n"
     ]
    }
   ],
   "source": [
    "with tf.device('/device:CPU:0'):\n",
    "    history = model.fit([x_batchL, x_batcha, x_batchb],y_batch, epochs=EPOCHS,\n",
    "                        batch_size=BATCH_SIZE, verbose=1, callbacks=[callback])"
   ]
  },
  {
   "cell_type": "code",
   "execution_count": 61,
   "metadata": {},
   "outputs": [
    {
     "data": {
      "image/png": "[encoded data removed]",
      "text/plain": [
       "<Figure size 576x360 with 1 Axes>"
      ]
     },
     "metadata": {
      "needs_background": "light"
     },
     "output_type": "display_data"
    }
   ],
   "source": [
    "DataFrame(history.history).plot(figsize=(8, 5))#, logy=True)\n",
    "plt.grid(True)\n",
    "#plt.gca().set_ylim(0, 1)\n",
    "plt.title('Model performance throughout training')\n",
    "plt.ylabel('Loss')\n",
    "plt.xlabel('epoch')\n",
    "plt.show()"
   ]
  },
  {
   "cell_type": "code",
   "execution_count": 62,
   "metadata": {},
   "outputs": [
    {
     "data": {
      "text/plain": [
       "(array([[0.407065  , 0.568349  , 0.02458595],\n",
       "        [0.40588635, 0.57023543, 0.0238782 ],\n",
       "        [0.40647575, 0.5704108 , 0.0231135 ],\n",
       "        ...,\n",
       "        [0.40677962, 0.56886333, 0.02435705],\n",
       "        [0.4084596 , 0.5657409 , 0.02579955],\n",
       "        [0.40786824, 0.56678236, 0.0253494 ]], dtype=float32),\n",
       " array([[0.2874  , 0.699   , 0.013664],\n",
       "        [0.548   , 0.4353  , 0.01677 ],\n",
       "        [0.03806 , 0.959   , 0.003084],\n",
       "        ...,\n",
       "        [0.81    , 0.095   , 0.095   ],\n",
       "        [0.6562  , 0.2139  , 0.1296  ],\n",
       "        [0.1875  , 0.8125  , 0.      ]], dtype=float16))"
      ]
     },
     "execution_count": 62,
     "metadata": {},
     "output_type": "execute_result"
    }
   ],
   "source": [
    "with tf.device('/device:CPU:0'):\n",
    "    y_pred = model.predict([x_batchL, x_batcha, x_batchb])\n",
    "y_pred, y_batch"
   ]
  },
  {
   "cell_type": "code",
   "execution_count": null,
   "metadata": {},
   "outputs": [],
   "source": []
  }
 ],
 "metadata": {
  "kernelspec": {
   "display_name": "Python 3",
   "language": "python",
   "name": "python3"
  },
  "language_info": {
   "codemirror_mode": {
    "name": "ipython",
    "version": 3
   },
   "file_extension": ".py",
   "mimetype": "text/x-python",
   "name": "python",
   "nbconvert_exporter": "python",
   "pygments_lexer": "ipython3",
   "version": "3.7.5"
  }
 },
 "nbformat": 4,
 "nbformat_minor": 2
}
