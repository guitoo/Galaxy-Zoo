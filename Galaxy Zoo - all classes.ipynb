{
 "cells": [
  {
   "cell_type": "code",
   "execution_count": 92,
   "metadata": {},
   "outputs": [],
   "source": [
    "import numpy as np\n",
    "import cv2\n",
    "from pandas import DataFrame, read_csv\n",
    "from matplotlib import pyplot as plt\n",
    "from shutil import copy2\n",
    "from tensorflow.keras.preprocessing.image import ImageDataGenerator\n",
    "from tensorflow.keras.layers import (Dense, Activation, Input, Conv2D, MaxPooling2D, Flatten,\n",
    "                                     GlobalMaxPooling2D, LeakyReLU, Concatenate, Dropout)\n",
    "from tensorflow.keras.models import Model, Sequential, load_model\n",
    "from tensorflow.keras.optimizers import SGD, RMSprop, Adam, Nadam, Adamax\n",
    "import tensorflow as tf\n",
    "from sklearn.model_selection import train_test_split\n",
    "from tensorflow.keras import backend as K\n",
    "from tensorflow.keras.callbacks import ModelCheckpoint\n",
    "from sklearn.metrics import confusion_matrix, accuracy_score\n",
    "import seaborn as sns\n",
    "from os.path import isfile"
   ]
  },
  {
   "cell_type": "code",
   "execution_count": 93,
   "metadata": {},
   "outputs": [],
   "source": [
    "SEED = 42\n",
    "from numpy.random import seed\n",
    "from tensorflow import random\n",
    "seed(SEED)\n",
    "random.set_seed(SEED)"
   ]
  },
  {
   "cell_type": "code",
   "execution_count": 94,
   "metadata": {},
   "outputs": [],
   "source": [
    "y_filename = 'training_solutions_rev1.csv'\n",
    "y = read_csv(y_filename, index_col=0)"
   ]
  },
  {
   "cell_type": "code",
   "execution_count": 95,
   "metadata": {},
   "outputs": [],
   "source": [
    "y_onehot_df = y.copy()\n",
    "output_sizes = [3,2,2,2,4,2,3,7,3,3,6]\n",
    "groups = []\n",
    "for i, size in enumerate(output_sizes): \n",
    "    groups.append([ 'Class'+ str(i+1) + '.' + str (j+1) for j in range(size)])\n",
    "\n",
    "for i, size in enumerate(output_sizes): \n",
    "    group = groups[i]\n",
    "\n",
    "    y_onehot_df[group] = 0\n",
    "    for col in group:\n",
    "        y_onehot_df[col] = (y[group].idxmax(axis=1) == col)\n",
    "y_onehot = [y_onehot_df[group].astype('int').to_numpy() for group in groups]"
   ]
  },
  {
   "cell_type": "code",
   "execution_count": 96,
   "metadata": {},
   "outputs": [],
   "source": [
    "INPUT_SHAPE=(96,96,3)"
   ]
  },
  {
   "cell_type": "code",
   "execution_count": 97,
   "metadata": {},
   "outputs": [],
   "source": [
    "def get_model(input_shape):\n",
    "    input = Input(shape=input_shape)\n",
    "    \n",
    "    layer = Conv2D(8,(3,3), padding='same')(input)\n",
    "    layer = Activation('relu')(layer)\n",
    "    layer = MaxPooling2D(pool_size=(2,2))(layer)\n",
    "    \n",
    "    layer = Conv2D(8,(3,3), padding='same')(layer)\n",
    "    layer = Activation('relu')(layer)\n",
    "    layer = MaxPooling2D(pool_size=(2,2))(layer)\n",
    "    \n",
    "    layer = Flatten()(layer)                     \n",
    "    \n",
    "    layer = Dense(64)(layer)\n",
    "    layer = Dense(32)(layer)\n",
    "    \n",
    "    outputs = []\n",
    "    \n",
    "    for size in output_sizes:\n",
    "        output = Dense(size)(layer)\n",
    "        outputs.append(Activation('softmax')(output))\n",
    "                         \n",
    "    return Model(inputs=input, outputs=outputs)"
   ]
  },
  {
   "cell_type": "code",
   "execution_count": 98,
   "metadata": {},
   "outputs": [],
   "source": [
    "from tensorflow.keras.losses import categorical_crossentropy\n",
    "def multiple_categorical_crossentropy(y_true, y_pred):\n",
    "    result = 0\n",
    "    start = 0\n",
    "    for size in output_sizes:\n",
    "        end = size+start-1\n",
    "        print(start, end)\n",
    "        cross = categorical_crossentropy(y_true[start:end], y_pred[start:end])\n",
    "        start += size\n",
    "        result += cross*cross\n",
    "    return result"
   ]
  },
  {
   "cell_type": "code",
   "execution_count": 99,
   "metadata": {},
   "outputs": [],
   "source": [
    "loss = [categorical_crossentropy] * 11\n",
    "LEARNING_RATE = 0.05\n",
    "BATCH_SIZE = 50\n",
    "EPOCHS = 50\n",
    "model = get_model(INPUT_SHAPE)\n",
    "model.compile(loss=loss, optimizer='nadam', batch_size=BATCH_SIZE)#, metrics=['mean_squared_error'])"
   ]
  },
  {
   "cell_type": "code",
   "execution_count": 100,
   "metadata": {},
   "outputs": [],
   "source": [
    "def crop(image, size=(128,128)):\n",
    "    centerx = image.shape[0]//2\n",
    "    centery = image.shape[1]//2\n",
    "    hheight = size[0]//2\n",
    "    hwidth = size[1]//2\n",
    "    return image[centerx-hwidth:centerx+hwidth, centery-hheight:centery+hheight]\n",
    "crop_shape = (256,256)\n",
    "def process(image):\n",
    "    image = crop(image, crop_shape)\n",
    "    return cv2.resize(image, (INPUT_SHAPE[0],INPUT_SHAPE[1]))        "
   ]
  },
  {
   "cell_type": "code",
   "execution_count": 101,
   "metadata": {},
   "outputs": [],
   "source": [
    "test_size = 10000\n",
    "X_train = []\n",
    "y_train = [] \n",
    "for i,size in enumerate(output_sizes):\n",
    "    y_train.append(y_onehot[i][0:test_size])\n",
    "dir = './images_training_rev1/'\n",
    "\n",
    "for i in range(test_size):\n",
    "    filename = dir + str(y.index[i]) + '.jpg'\n",
    "    img = cv2.imread(filename)\n",
    "    img = process(img)\n",
    "    X_train.append(img)\n",
    "X_train = np.stack(X_train).astype(np.float32)/255"
   ]
  },
  {
   "cell_type": "code",
   "execution_count": 102,
   "metadata": {},
   "outputs": [
    {
     "data": {
      "text/plain": [
       "((10000, 96, 96, 3), (10000, 3))"
      ]
     },
     "execution_count": 102,
     "metadata": {},
     "output_type": "execute_result"
    }
   ],
   "source": [
    "X_train.shape, y_train[0].shape"
   ]
  },
  {
   "cell_type": "code",
   "execution_count": 103,
   "metadata": {},
   "outputs": [
    {
     "name": "stdout",
     "output_type": "stream",
     "text": [
      "Train on 10000 samples\n",
      "Epoch 1/50\n",
      "10000/10000 [==============================] - 18s 2ms/sample - loss: 8.4951 - activation_28_loss: 0.5905 - activation_29_loss: 0.3511 - activation_30_loss: 0.5015 - activation_31_loss: 0.6530 - activation_32_loss: 1.0585 - activation_33_loss: 0.3949 - activation_34_loss: 0.8935 - activation_35_loss: 1.6920 - activation_36_loss: 0.3862 - activation_37_loss: 0.7632 - activation_38_loss: 1.2076\n",
      "Epoch 2/50\n",
      "10000/10000 [==============================] - 15s 2ms/sample - loss: 7.7240 - activation_28_loss: 0.5134 - activation_29_loss: 0.2762 - activation_30_loss: 0.4805 - activation_31_loss: 0.6258 - activation_32_loss: 0.9521 - activation_33_loss: 0.3669 - activation_34_loss: 0.7090 - activation_35_loss: 1.6010 - activation_36_loss: 0.3474 - activation_37_loss: 0.7309 - activation_38_loss: 1.1197\n",
      "Epoch 3/50\n",
      "10000/10000 [==============================] - 16s 2ms/sample - loss: 7.4274 - activation_28_loss: 0.4798 - activation_29_loss: 0.2561 - activation_30_loss: 0.4648 - activation_31_loss: 0.6144 - activation_32_loss: 0.9113 - activation_33_loss: 0.3477 - activation_34_loss: 0.6543 - activation_35_loss: 1.5609 - activation_36_loss: 0.3375 - activation_37_loss: 0.7151 - activation_38_loss: 1.0850\n",
      "Epoch 4/50\n",
      "10000/10000 [==============================] - 16s 2ms/sample - loss: 7.2207 - activation_28_loss: 0.4590 - activation_29_loss: 0.2411 - activation_30_loss: 0.4574 - activation_31_loss: 0.6072 - activation_32_loss: 0.8844 - activation_33_loss: 0.3374 - activation_34_loss: 0.6201 - activation_35_loss: 1.5232 - activation_36_loss: 0.3288 - activation_37_loss: 0.7019 - activation_38_loss: 1.0604\n",
      "Epoch 5/50\n",
      "10000/10000 [==============================] - 16s 2ms/sample - loss: 7.0284 - activation_28_loss: 0.4430 - activation_29_loss: 0.2314 - activation_30_loss: 0.4464 - activation_31_loss: 0.5976 - activation_32_loss: 0.8654 - activation_33_loss: 0.3224 - activation_34_loss: 0.5964 - activation_35_loss: 1.4821 - activation_36_loss: 0.3193 - activation_37_loss: 0.6891 - activation_38_loss: 1.0351\n",
      "Epoch 6/50\n",
      "10000/10000 [==============================] - 17s 2ms/sample - loss: 6.8471 - activation_28_loss: 0.4294 - activation_29_loss: 0.2198 - activation_30_loss: 0.4383 - activation_31_loss: 0.5904 - activation_32_loss: 0.8407 - activation_33_loss: 0.3137 - activation_34_loss: 0.5699 - activation_35_loss: 1.4499 - activation_36_loss: 0.3109 - activation_37_loss: 0.6735 - activation_38_loss: 1.0107\n",
      "Epoch 7/50\n",
      "10000/10000 [==============================] - 16s 2ms/sample - loss: 6.6696 - activation_28_loss: 0.4158 - activation_29_loss: 0.2119 - activation_30_loss: 0.4272 - activation_31_loss: 0.5827 - activation_32_loss: 0.8227 - activation_33_loss: 0.3006 - activation_34_loss: 0.5457 - activation_35_loss: 1.4138 - activation_36_loss: 0.3016 - activation_37_loss: 0.6586 - activation_38_loss: 0.9889\n",
      "Epoch 8/50\n",
      "10000/10000 [==============================] - 16s 2ms/sample - loss: 6.4833 - activation_28_loss: 0.4043 - activation_29_loss: 0.2005 - activation_30_loss: 0.4178 - activation_31_loss: 0.5732 - activation_32_loss: 0.8024 - activation_33_loss: 0.2920 - activation_34_loss: 0.5252 - activation_35_loss: 1.3711 - activation_36_loss: 0.2922 - activation_37_loss: 0.6443 - activation_38_loss: 0.9606\n",
      "Epoch 9/50\n",
      "10000/10000 [==============================] - 17s 2ms/sample - loss: 6.2834 - activation_28_loss: 0.3912 - activation_29_loss: 0.1898 - activation_30_loss: 0.4088 - activation_31_loss: 0.5638 - activation_32_loss: 0.7785 - activation_33_loss: 0.2821 - activation_34_loss: 0.4998 - activation_35_loss: 1.3315 - activation_36_loss: 0.2788 - activation_37_loss: 0.6271 - activation_38_loss: 0.9331\n",
      "Epoch 10/50\n",
      "10000/10000 [==============================] - 17s 2ms/sample - loss: 6.0868 - activation_28_loss: 0.3792 - activation_29_loss: 0.1830 - activation_30_loss: 0.3962 - activation_31_loss: 0.5564 - activation_32_loss: 0.7569 - activation_33_loss: 0.2702 - activation_34_loss: 0.4806 - activation_35_loss: 1.2826 - activation_36_loss: 0.2663 - activation_37_loss: 0.6075 - activation_38_loss: 0.9079\n",
      "Epoch 11/50\n",
      "10000/10000 [==============================] - 16s 2ms/sample - loss: 5.8886 - activation_28_loss: 0.3670 - activation_29_loss: 0.1741 - activation_30_loss: 0.3849 - activation_31_loss: 0.5429 - activation_32_loss: 0.7325 - activation_33_loss: 0.2617 - activation_34_loss: 0.4602 - activation_35_loss: 1.2409 - activation_36_loss: 0.2552 - activation_37_loss: 0.5914 - activation_38_loss: 0.8769\n",
      "Epoch 12/50\n",
      "10000/10000 [==============================] - 17s 2ms/sample - loss: 5.6808 - activation_28_loss: 0.3568 - activation_29_loss: 0.1656 - activation_30_loss: 0.3787 - activation_31_loss: 0.5358 - activation_32_loss: 0.7040 - activation_33_loss: 0.2503 - activation_34_loss: 0.4399 - activation_35_loss: 1.1899 - activation_36_loss: 0.2412 - activation_37_loss: 0.5721 - activation_38_loss: 0.8457\n",
      "Epoch 13/50\n",
      "10000/10000 [==============================] - 16s 2ms/sample - loss: 5.4714 - activation_28_loss: 0.3437 - activation_29_loss: 0.1547 - activation_30_loss: 0.3653 - activation_31_loss: 0.5255 - activation_32_loss: 0.6834 - activation_33_loss: 0.2388 - activation_34_loss: 0.4219 - activation_35_loss: 1.1422 - activation_36_loss: 0.2311 - activation_37_loss: 0.5536 - activation_38_loss: 0.8130\n",
      "Epoch 14/50\n",
      "10000/10000 [==============================] - 17s 2ms/sample - loss: 5.2844 - activation_28_loss: 0.3366 - activation_29_loss: 0.1512 - activation_30_loss: 0.3549 - activation_31_loss: 0.5176 - activation_32_loss: 0.6550 - activation_33_loss: 0.2312 - activation_34_loss: 0.4019 - activation_35_loss: 1.0974 - activation_36_loss: 0.2160 - activation_37_loss: 0.5360 - activation_38_loss: 0.7867\n",
      "Epoch 15/50\n",
      "10000/10000 [==============================] - 17s 2ms/sample - loss: 5.0866 - activation_28_loss: 0.3258 - activation_29_loss: 0.1417 - activation_30_loss: 0.3476 - activation_31_loss: 0.5072 - activation_32_loss: 0.6306 - activation_33_loss: 0.2223 - activation_34_loss: 0.3836 - activation_35_loss: 1.0511 - activation_36_loss: 0.2016 - activation_37_loss: 0.5202 - activation_38_loss: 0.7558\n",
      "Epoch 16/50\n",
      "10000/10000 [==============================] - 16s 2ms/sample - loss: 4.9038 - activation_28_loss: 0.3179 - activation_29_loss: 0.1330 - activation_30_loss: 0.3358 - activation_31_loss: 0.5010 - activation_32_loss: 0.6045 - activation_33_loss: 0.2128 - activation_34_loss: 0.3731 - activation_35_loss: 1.0106 - activation_36_loss: 0.1909 - activation_37_loss: 0.5027 - activation_38_loss: 0.7239\n",
      "Epoch 17/50\n",
      "10000/10000 [==============================] - 16s 2ms/sample - loss: 4.7178 - activation_28_loss: 0.3084 - activation_29_loss: 0.1281 - activation_30_loss: 0.3286 - activation_31_loss: 0.4916 - activation_32_loss: 0.5849 - activation_33_loss: 0.2016 - activation_34_loss: 0.3538 - activation_35_loss: 0.9675 - activation_36_loss: 0.1774 - activation_37_loss: 0.4839 - activation_38_loss: 0.6925\n",
      "Epoch 18/50\n",
      "10000/10000 [==============================] - 17s 2ms/sample - loss: 4.5552 - activation_28_loss: 0.3018 - activation_29_loss: 0.1199 - activation_30_loss: 0.3230 - activation_31_loss: 0.4864 - activation_32_loss: 0.5608 - activation_33_loss: 0.1957 - activation_34_loss: 0.3435 - activation_35_loss: 0.9194 - activation_36_loss: 0.1645 - activation_37_loss: 0.4685 - activation_38_loss: 0.6710\n",
      "Epoch 19/50\n",
      "10000/10000 [==============================] - 17s 2ms/sample - loss: 4.3869 - activation_28_loss: 0.2899 - activation_29_loss: 0.1118 - activation_30_loss: 0.3125 - activation_31_loss: 0.4767 - activation_32_loss: 0.5379 - activation_33_loss: 0.1899 - activation_34_loss: 0.3309 - activation_35_loss: 0.8862 - activation_36_loss: 0.1524 - activation_37_loss: 0.4546 - activation_38_loss: 0.6439\n",
      "Epoch 20/50\n",
      "10000/10000 [==============================] - 17s 2ms/sample - loss: 4.2154 - activation_28_loss: 0.2855 - activation_29_loss: 0.1042 - activation_30_loss: 0.3019 - activation_31_loss: 0.4702 - activation_32_loss: 0.5160 - activation_33_loss: 0.1766 - activation_34_loss: 0.3153 - activation_35_loss: 0.8466 - activation_36_loss: 0.1412 - activation_37_loss: 0.4408 - activation_38_loss: 0.6155\n",
      "Epoch 21/50\n"
     ]
    },
    {
     "name": "stdout",
     "output_type": "stream",
     "text": [
      "10000/10000 [==============================] - 16s 2ms/sample - loss: 4.0640 - activation_28_loss: 0.2823 - activation_29_loss: 0.0987 - activation_30_loss: 0.2981 - activation_31_loss: 0.4628 - activation_32_loss: 0.4914 - activation_33_loss: 0.1744 - activation_34_loss: 0.3042 - activation_35_loss: 0.8045 - activation_36_loss: 0.1281 - activation_37_loss: 0.4291 - activation_38_loss: 0.5904\n",
      "Epoch 22/50\n",
      "10000/10000 [==============================] - 16s 2ms/sample - loss: 3.9327 - activation_28_loss: 0.2729 - activation_29_loss: 0.0925 - activation_30_loss: 0.2905 - activation_31_loss: 0.4596 - activation_32_loss: 0.4769 - activation_33_loss: 0.1621 - activation_34_loss: 0.2940 - activation_35_loss: 0.7726 - activation_36_loss: 0.1192 - activation_37_loss: 0.4183 - activation_38_loss: 0.5748\n",
      "Epoch 23/50\n",
      "10000/10000 [==============================] - 17s 2ms/sample - loss: 3.8016 - activation_28_loss: 0.2628 - activation_29_loss: 0.0849 - activation_30_loss: 0.2852 - activation_31_loss: 0.4514 - activation_32_loss: 0.4614 - activation_33_loss: 0.1632 - activation_34_loss: 0.2862 - activation_35_loss: 0.7417 - activation_36_loss: 0.1090 - activation_37_loss: 0.4056 - activation_38_loss: 0.5498\n",
      "Epoch 24/50\n",
      "10000/10000 [==============================] - 16s 2ms/sample - loss: 3.6634 - activation_28_loss: 0.2566 - activation_29_loss: 0.0825 - activation_30_loss: 0.2793 - activation_31_loss: 0.4481 - activation_32_loss: 0.4427 - activation_33_loss: 0.1532 - activation_34_loss: 0.2760 - activation_35_loss: 0.7075 - activation_36_loss: 0.1036 - activation_37_loss: 0.3870 - activation_38_loss: 0.5278\n",
      "Epoch 25/50\n",
      "10000/10000 [==============================] - 16s 2ms/sample - loss: 3.5513 - activation_28_loss: 0.2548 - activation_29_loss: 0.0730 - activation_30_loss: 0.2745 - activation_31_loss: 0.4422 - activation_32_loss: 0.4267 - activation_33_loss: 0.1461 - activation_34_loss: 0.2685 - activation_35_loss: 0.6807 - activation_36_loss: 0.0897 - activation_37_loss: 0.3786 - activation_38_loss: 0.5154\n",
      "Epoch 26/50\n",
      "10000/10000 [==============================] - 16s 2ms/sample - loss: 3.4425 - activation_28_loss: 0.2505 - activation_29_loss: 0.0688 - activation_30_loss: 0.2676 - activation_31_loss: 0.4389 - activation_32_loss: 0.4084 - activation_33_loss: 0.1391 - activation_34_loss: 0.2594 - activation_35_loss: 0.6559 - activation_36_loss: 0.0838 - activation_37_loss: 0.3741 - activation_38_loss: 0.4960\n",
      "Epoch 27/50\n",
      "10000/10000 [==============================] - 16s 2ms/sample - loss: 3.3472 - activation_28_loss: 0.2431 - activation_29_loss: 0.0647 - activation_30_loss: 0.2612 - activation_31_loss: 0.4327 - activation_32_loss: 0.3980 - activation_33_loss: 0.1353 - activation_34_loss: 0.2543 - activation_35_loss: 0.6308 - activation_36_loss: 0.0762 - activation_37_loss: 0.3627 - activation_38_loss: 0.4878\n",
      "Epoch 28/50\n",
      "10000/10000 [==============================] - 16s 2ms/sample - loss: 3.2303 - activation_28_loss: 0.2371 - activation_29_loss: 0.0580 - activation_30_loss: 0.2571 - activation_31_loss: 0.4319 - activation_32_loss: 0.3831 - activation_33_loss: 0.1282 - activation_34_loss: 0.2455 - activation_35_loss: 0.5906 - activation_36_loss: 0.0711 - activation_37_loss: 0.3547 - activation_38_loss: 0.4724\n",
      "Epoch 29/50\n",
      "10000/10000 [==============================] - 16s 2ms/sample - loss: 3.1458 - activation_28_loss: 0.2348 - activation_29_loss: 0.0526 - activation_30_loss: 0.2528 - activation_31_loss: 0.4248 - activation_32_loss: 0.3670 - activation_33_loss: 0.1230 - activation_34_loss: 0.2451 - activation_35_loss: 0.5784 - activation_36_loss: 0.0651 - activation_37_loss: 0.3434 - activation_38_loss: 0.4595\n",
      "Epoch 30/50\n",
      "10000/10000 [==============================] - 17s 2ms/sample - loss: 3.0563 - activation_28_loss: 0.2271 - activation_29_loss: 0.0515 - activation_30_loss: 0.2506 - activation_31_loss: 0.4201 - activation_32_loss: 0.3618 - activation_33_loss: 0.1211 - activation_34_loss: 0.2361 - activation_35_loss: 0.5532 - activation_36_loss: 0.0556 - activation_37_loss: 0.3344 - activation_38_loss: 0.4448\n",
      "Epoch 31/50\n",
      "10000/10000 [==============================] - 17s 2ms/sample - loss: 2.9674 - activation_28_loss: 0.2246 - activation_29_loss: 0.0487 - activation_30_loss: 0.2480 - activation_31_loss: 0.4192 - activation_32_loss: 0.3465 - activation_33_loss: 0.1156 - activation_34_loss: 0.2285 - activation_35_loss: 0.5266 - activation_36_loss: 0.0464 - activation_37_loss: 0.3269 - activation_38_loss: 0.4367\n",
      "Epoch 32/50\n",
      "10000/10000 [==============================] - 17s 2ms/sample - loss: 2.8897 - activation_28_loss: 0.2215 - activation_29_loss: 0.0430 - activation_30_loss: 0.2407 - activation_31_loss: 0.4152 - activation_32_loss: 0.3346 - activation_33_loss: 0.1110 - activation_34_loss: 0.2220 - activation_35_loss: 0.5144 - activation_36_loss: 0.0458 - activation_37_loss: 0.3177 - activation_38_loss: 0.4248\n",
      "Epoch 33/50\n",
      "10000/10000 [==============================] - 16s 2ms/sample - loss: 2.8247 - activation_28_loss: 0.2180 - activation_29_loss: 0.0430 - activation_30_loss: 0.2363 - activation_31_loss: 0.4121 - activation_32_loss: 0.3245 - activation_33_loss: 0.1025 - activation_34_loss: 0.2201 - activation_35_loss: 0.4935 - activation_36_loss: 0.0452 - activation_37_loss: 0.3096 - activation_38_loss: 0.4187\n",
      "Epoch 34/50\n",
      "10000/10000 [==============================] - 17s 2ms/sample - loss: 2.7564 - activation_28_loss: 0.2132 - activation_29_loss: 0.0378 - activation_30_loss: 0.2344 - activation_31_loss: 0.4096 - activation_32_loss: 0.3188 - activation_33_loss: 0.1020 - activation_34_loss: 0.2161 - activation_35_loss: 0.4694 - activation_36_loss: 0.0402 - activation_37_loss: 0.3055 - activation_38_loss: 0.4093\n",
      "Epoch 35/50\n",
      "10000/10000 [==============================] - 16s 2ms/sample - loss: 2.6850 - activation_28_loss: 0.2060 - activation_29_loss: 0.0345 - activation_30_loss: 0.2282 - activation_31_loss: 0.4050 - activation_32_loss: 0.3140 - activation_33_loss: 0.0966 - activation_34_loss: 0.2102 - activation_35_loss: 0.4487 - activation_36_loss: 0.0374 - activation_37_loss: 0.3028 - activation_38_loss: 0.4008 10s - loss: 2.4716 - activation_28_loss: 0.1935 - activation_29_loss: 0.0271 - activation_30_loss: 0.2165 - activation_31_loss: 0.3880 - activation_32_loss: 0.2966  - ETA: 5s - loss: 2.5780 - activation_28_loss: 0.1988 - activation_29_loss: 0.0307 - activation_30_loss: 0.2167 - activation_31_loss: 0.4000 - activation_32_loss: 0.3039 -\n",
      "Epoch 36/50\n",
      "10000/10000 [==============================] - 16s 2ms/sample - loss: 2.6270 - activation_28_loss: 0.2057 - activation_29_loss: 0.0387 - activation_30_loss: 0.2289 - activation_31_loss: 0.4036 - activation_32_loss: 0.2959 - activation_33_loss: 0.0909 - activation_34_loss: 0.2049 - activation_35_loss: 0.4480 - activation_36_loss: 0.0317 - activation_37_loss: 0.2901 - activation_38_loss: 0.3905\n",
      "Epoch 37/50\n",
      "10000/10000 [==============================] - 16s 2ms/sample - loss: 2.5704 - activation_28_loss: 0.2038 - activation_29_loss: 0.0325 - activation_30_loss: 0.2224 - activation_31_loss: 0.3994 - activation_32_loss: 0.2847 - activation_33_loss: 0.0930 - activation_34_loss: 0.2083 - activation_35_loss: 0.4165 - activation_36_loss: 0.0286 - activation_37_loss: 0.2938 - activation_38_loss: 0.3869\n",
      "Epoch 38/50\n",
      "10000/10000 [==============================] - 17s 2ms/sample - loss: 2.5273 - activation_28_loss: 0.1977 - activation_29_loss: 0.0254 - activation_30_loss: 0.2184 - activation_31_loss: 0.3999 - activation_32_loss: 0.2820 - activation_33_loss: 0.0864 - activation_34_loss: 0.2001 - activation_35_loss: 0.4117 - activation_36_loss: 0.0336 - activation_37_loss: 0.2878 - activation_38_loss: 0.3852\n",
      "Epoch 39/50\n",
      "10000/10000 [==============================] - 16s 2ms/sample - loss: 2.4802 - activation_28_loss: 0.1944 - activation_29_loss: 0.0238 - activation_30_loss: 0.2154 - activation_31_loss: 0.3953 - activation_32_loss: 0.2729 - activation_33_loss: 0.0832 - activation_34_loss: 0.1979 - activation_35_loss: 0.3944 - activation_36_loss: 0.0502 - activation_37_loss: 0.2787 - activation_38_loss: 0.3742\n",
      "Epoch 40/50\n"
     ]
    },
    {
     "name": "stdout",
     "output_type": "stream",
     "text": [
      "10000/10000 [==============================] - 16s 2ms/sample - loss: 2.3915 - activation_28_loss: 0.1919 - activation_29_loss: 0.0210 - activation_30_loss: 0.2103 - activation_31_loss: 0.3886 - activation_32_loss: 0.2664 - activation_33_loss: 0.0770 - activation_34_loss: 0.1922 - activation_35_loss: 0.3712 - activation_36_loss: 0.0333 - activation_37_loss: 0.2727 - activation_38_loss: 0.3659\n",
      "Epoch 41/50\n",
      "10000/10000 [==============================] - 16s 2ms/sample - loss: 2.3523 - activation_28_loss: 0.1864 - activation_29_loss: 0.0200 - activation_30_loss: 0.2133 - activation_31_loss: 0.3920 - activation_32_loss: 0.2641 - activation_33_loss: 0.0786 - activation_34_loss: 0.1917 - activation_35_loss: 0.3608 - activation_36_loss: 0.0275 - activation_37_loss: 0.2626 - activation_38_loss: 0.3573\n",
      "Epoch 42/50\n",
      "10000/10000 [==============================] - 16s 2ms/sample - loss: 2.3192 - activation_28_loss: 0.1908 - activation_29_loss: 0.0210 - activation_30_loss: 0.2052 - activation_31_loss: 0.3859 - activation_32_loss: 0.2568 - activation_33_loss: 0.0753 - activation_34_loss: 0.1913 - activation_35_loss: 0.3496 - activation_36_loss: 0.0220 - activation_37_loss: 0.2669 - activation_38_loss: 0.3546\n",
      "Epoch 43/50\n",
      "10000/10000 [==============================] - 16s 2ms/sample - loss: 2.2805 - activation_28_loss: 0.1844 - activation_29_loss: 0.0236 - activation_30_loss: 0.2069 - activation_31_loss: 0.3867 - activation_32_loss: 0.2586 - activation_33_loss: 0.0750 - activation_34_loss: 0.1833 - activation_35_loss: 0.3378 - activation_36_loss: 0.0169 - activation_37_loss: 0.2595 - activation_38_loss: 0.3475\n",
      "Epoch 44/50\n",
      "10000/10000 [==============================] - 16s 2ms/sample - loss: 2.2223 - activation_28_loss: 0.1798 - activation_29_loss: 0.0173 - activation_30_loss: 0.1999 - activation_31_loss: 0.3802 - activation_32_loss: 0.2520 - activation_33_loss: 0.0693 - activation_34_loss: 0.1859 - activation_35_loss: 0.3367 - activation_36_loss: 0.0123 - activation_37_loss: 0.2484 - activation_38_loss: 0.3394\n",
      "Epoch 45/50\n",
      "10000/10000 [==============================] - 16s 2ms/sample - loss: 2.2164 - activation_28_loss: 0.1782 - activation_29_loss: 0.0185 - activation_30_loss: 0.2008 - activation_31_loss: 0.3839 - activation_32_loss: 0.2442 - activation_33_loss: 0.0672 - activation_34_loss: 0.1808 - activation_35_loss: 0.3504 - activation_36_loss: 0.0100 - activation_37_loss: 0.2434 - activation_38_loss: 0.3391\n",
      "Epoch 46/50\n",
      "10000/10000 [==============================] - 16s 2ms/sample - loss: 2.1652 - activation_28_loss: 0.1759 - activation_29_loss: 0.0154 - activation_30_loss: 0.1968 - activation_31_loss: 0.3830 - activation_32_loss: 0.2422 - activation_33_loss: 0.0625 - activation_34_loss: 0.1775 - activation_35_loss: 0.3343 - activation_36_loss: 0.0083 - activation_37_loss: 0.2375 - activation_38_loss: 0.3327\n",
      "Epoch 47/50\n",
      "10000/10000 [==============================] - 16s 2ms/sample - loss: 2.0881 - activation_28_loss: 0.1695 - activation_29_loss: 0.0098 - activation_30_loss: 0.1965 - activation_31_loss: 0.3790 - activation_32_loss: 0.2276 - activation_33_loss: 0.0553 - activation_34_loss: 0.1775 - activation_35_loss: 0.3064 - activation_36_loss: 0.0055 - activation_37_loss: 0.2328 - activation_38_loss: 0.3289\n",
      "Epoch 48/50\n",
      "10000/10000 [==============================] - 17s 2ms/sample - loss: 2.0964 - activation_28_loss: 0.1763 - activation_29_loss: 0.0095 - activation_30_loss: 0.1939 - activation_31_loss: 0.3746 - activation_32_loss: 0.2356 - activation_33_loss: 0.0610 - activation_34_loss: 0.1712 - activation_35_loss: 0.3110 - activation_36_loss: 0.0040 - activation_37_loss: 0.2339 - activation_38_loss: 0.3254\n",
      "Epoch 49/50\n",
      "10000/10000 [==============================] - 16s 2ms/sample - loss: 2.0170 - activation_28_loss: 0.1705 - activation_29_loss: 0.0057 - activation_30_loss: 0.1904 - activation_31_loss: 0.3751 - activation_32_loss: 0.2300 - activation_33_loss: 0.0458 - activation_34_loss: 0.1671 - activation_35_loss: 0.2848 - activation_36_loss: 0.0033 - activation_37_loss: 0.2312 - activation_38_loss: 0.3125\n",
      "Epoch 50/50\n",
      "10000/10000 [==============================] - 17s 2ms/sample - loss: 2.0277 - activation_28_loss: 0.1711 - activation_29_loss: 0.0084 - activation_30_loss: 0.1916 - activation_31_loss: 0.3740 - activation_32_loss: 0.2291 - activation_33_loss: 0.0438 - activation_34_loss: 0.1733 - activation_35_loss: 0.2885 - activation_36_loss: 0.0027 - activation_37_loss: 0.2346 - activation_38_loss: 0.3114\n"
     ]
    }
   ],
   "source": [
    "history = model.fit(x=X_train, y=y_train, epochs=EPOCHS, verbose=1)"
   ]
  },
  {
   "cell_type": "code",
   "execution_count": 104,
   "metadata": {},
   "outputs": [],
   "source": [
    "def plot_history(history, metrics=['loss'], val=False, shape=None, logy=False):\n",
    "    if not isinstance(logy, list):\n",
    "        logy = [logy] * len(metrics)\n",
    "    df = DataFrame(history.history)\n",
    "    if shape is None:\n",
    "        shape = (1,len(metrics))\n",
    "    for i, metric in enumerate(metrics):\n",
    "        cols = [metric]\n",
    "        if val:\n",
    "            cols.append('val_' + metric)\n",
    "        ax = plt.subplot(shape[0],shape[1],i+1)\n",
    "        df[cols].plot(ax=ax, logy=logy[i])\n",
    "        plt.grid(True)\n",
    "        plt.xlabel('epoch')\n",
    "    plt.show()"
   ]
  },
  {
   "cell_type": "code",
   "execution_count": 105,
   "metadata": {},
   "outputs": [
    {
     "data": {
      "image/png": "[encoded data removed]",
      "text/plain": [
       "<Figure size 1152x576 with 1 Axes>"
      ]
     },
     "metadata": {
      "needs_background": "light"
     },
     "output_type": "display_data"
    }
   ],
   "source": [
    "fig = plt.figure(figsize=(16, 8))\n",
    "plot_history(history, metrics=['loss'], logy=True)"
   ]
  },
  {
   "cell_type": "code",
   "execution_count": 106,
   "metadata": {},
   "outputs": [],
   "source": [
    "def RMSE(y_true_mixed, y_pred_mixed):\n",
    "    value = 0\n",
    "    for y_true, y_pred in zip(y_true_mixed, y_pred_mixed):\n",
    "        y_true = y_true.reshape(-1).astype(float)\n",
    "        y_pred = y_pred.reshape(-1).astype(float)\n",
    "        value += K.mean(K.square(y_true)- K.square(y_pred))\n",
    "    print(MSE(y_true, y_pred))\n",
    "    return K.sqrt(value)"
   ]
  },
  {
   "cell_type": "code",
   "execution_count": 107,
   "metadata": {},
   "outputs": [],
   "source": [
    "y_pred = model.predict(X_train)"
   ]
  },
  {
   "cell_type": "code",
   "execution_count": 109,
   "metadata": {},
   "outputs": [
    {
     "name": "stdout",
     "output_type": "stream",
     "text": [
      "tf.Tensor(0.023453653041153016, shape=(), dtype=float64)\n"
     ]
    }
   ],
   "source": [
    "float(RMSE(y_train, y_pred));"
   ]
  },
  {
   "cell_type": "code",
   "execution_count": null,
   "metadata": {},
   "outputs": [],
   "source": []
  }
 ],
 "metadata": {
  "kernelspec": {
   "display_name": "Python 3",
   "language": "python",
   "name": "python3"
  },
  "language_info": {
   "codemirror_mode": {
    "name": "ipython",
    "version": 3
   },
   "file_extension": ".py",
   "mimetype": "text/x-python",
   "name": "python",
   "nbconvert_exporter": "python",
   "pygments_lexer": "ipython3",
   "version": "3.7.5"
  },
  "toc": {
   "base_numbering": 1,
   "nav_menu": {},
   "number_sections": true,
   "sideBar": true,
   "skip_h1_title": false,
   "title_cell": "Table of Contents",
   "title_sidebar": "Contents",
   "toc_cell": false,
   "toc_position": {},
   "toc_section_display": true,
   "toc_window_display": false
  }
 },
 "nbformat": 4,
 "nbformat_minor": 2
}
