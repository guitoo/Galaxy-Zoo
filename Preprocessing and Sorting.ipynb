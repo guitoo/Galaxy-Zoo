{
 "cells": [
  {
   "cell_type": "code",
   "execution_count": 169,
   "metadata": {},
   "outputs": [],
   "source": [
    "import cv2\n",
    "import numpy as np\n",
    "from pandas import DataFrame, read_csv, concat\n",
    "from matplotlib import pyplot as plt\n",
    "from sklearn.model_selection import train_test_split\n",
    "from shutil import copy2\n",
    "from tqdm.notebook import tqdm"
   ]
  },
  {
   "cell_type": "code",
   "execution_count": 156,
   "metadata": {},
   "outputs": [],
   "source": [
    "y_filename = 'training_solutions_rev1.csv'\n",
    "y = read_csv(y_filename, index_col=0)[['Class1.1','Class1.2','Class1.3']]\n",
    "y['Class'] = y.idxmax(axis=1)\n",
    "y_1 = y['Class']"
   ]
  },
  {
   "cell_type": "code",
   "execution_count": 157,
   "metadata": {},
   "outputs": [],
   "source": [
    "class1 = y.loc[y_1=='Class1.1']\n",
    "class2 = y.loc[y_1=='Class1.2']\n",
    "class3 = y.loc[y_1=='Class1.3']"
   ]
  },
  {
   "cell_type": "code",
   "execution_count": 158,
   "metadata": {},
   "outputs": [],
   "source": [
    "class1 = class1.sort_values(by='Class1.1', ascending=False)\n",
    "class2 = class2.sort_values(by='Class1.2', ascending=False)\n",
    "class3 = class3.sort_values(by='Class1.3', ascending=False)"
   ]
  },
  {
   "cell_type": "code",
   "execution_count": 159,
   "metadata": {},
   "outputs": [],
   "source": [
    "class1_imgs = []\n",
    "class2_imgs = []\n",
    "class3_imgs = []"
   ]
  },
  {
   "cell_type": "code",
   "execution_count": 160,
   "metadata": {},
   "outputs": [],
   "source": [
    "def isolate(image, feather=(30,30)):\n",
    "    image = image.copy()\n",
    "    gray = cv2.cvtColor(image, cv2.COLOR_BGR2GRAY)\n",
    "    gray = cv2.blur(gray,(5,5))\n",
    "\n",
    "    blur = cv2.blur(image,(30,30))\n",
    "\n",
    "    ret, thresh = cv2.threshold(gray,0,255,cv2.THRESH_OTSU)\n",
    "\n",
    "    ret, markers = cv2.connectedComponents(thresh)\n",
    "    markers = cv2.watershed(blur,markers)\n",
    "    centergroup= markers[212,212]\n",
    "\n",
    "    mask = np.array(markers).astype(np.uint8)\n",
    "    mask[:,:]=0\n",
    "    mask[markers == centergroup] = 255\n",
    "\n",
    "    kernel = cv2.getStructuringElement(cv2.MORPH_ELLIPSE, feather)\n",
    "    mask = cv2.dilate(mask,kernel,iterations = 1)\n",
    "    mask = cv2.blur(mask, feather).astype(float)\n",
    "\n",
    "    for i in range(3):\n",
    "        image[:,:,i] = (image[:,:,i] * mask/255.0).astype(np.uint8)\n",
    "    return image"
   ]
  },
  {
   "cell_type": "code",
   "execution_count": 161,
   "metadata": {},
   "outputs": [],
   "source": [
    "def crop(image, size=(128,128)):\n",
    "    centerx = image.shape[0]//2\n",
    "    centery = image.shape[1]//2\n",
    "    hheight = size[0]//2\n",
    "    hwidth = size[1]//2\n",
    "    return image[centerx-hwidth:centerx+hwidth, centery-hheight:centery+hheight]"
   ]
  },
  {
   "cell_type": "code",
   "execution_count": 162,
   "metadata": {},
   "outputs": [],
   "source": [
    "crop_shape = (256,256)\n",
    "input_shape = (96,96)\n",
    "def process(image):\n",
    "    image = isolate(image)\n",
    "    image = crop(image, crop_shape)\n",
    "    return cv2.resize(image, input_shape)"
   ]
  },
  {
   "cell_type": "code",
   "execution_count": 163,
   "metadata": {},
   "outputs": [],
   "source": [
    "dir = './images_training_rev1/'\n",
    "\n",
    "\n",
    "def process_sort(index, destdir):\n",
    "    filename = dir + str(index) + '.jpg'\n",
    "    destname = destdir + str(index) + '.jpg'\n",
    "    img = cv2.imread(filename)\n",
    "    img = process(img)\n",
    "    cv2.imwrite(destname, img)"
   ]
  },
  {
   "cell_type": "code",
   "execution_count": 164,
   "metadata": {},
   "outputs": [],
   "source": [
    "C1_train, C1_valid = train_test_split(class1, test_size=0.3, random_state=42)\n",
    "C2_train, C2_valid = train_test_split(class2, test_size=0.3, random_state=42)\n",
    "C3_train, C3_valid = train_test_split(class3, test_size=0.3, random_state=42)"
   ]
  },
  {
   "cell_type": "code",
   "execution_count": 165,
   "metadata": {},
   "outputs": [
    {
     "data": {
      "text/plain": [
       "((18685, 4), (26693, 4), (24378, 4), (61578, 4))"
      ]
     },
     "execution_count": 165,
     "metadata": {},
     "output_type": "execute_result"
    }
   ],
   "source": [
    "C1_train.shape, class1.shape, C2_train.shape, y.shape"
   ]
  },
  {
   "cell_type": "code",
   "execution_count": 166,
   "metadata": {},
   "outputs": [
    {
     "data": {
      "application/vnd.jupyter.widget-view+json": {
       "model_id": "d9fa8a735a1240b980ca7d0d75551247",
       "version_major": 2,
       "version_minor": 0
      },
      "text/plain": [
       "HBox(children=(FloatProgress(value=0.0, max=18685.0), HTML(value='')))"
      ]
     },
     "metadata": {},
     "output_type": "display_data"
    },
    {
     "name": "stdout",
     "output_type": "stream",
     "text": [
      "\n"
     ]
    },
    {
     "data": {
      "application/vnd.jupyter.widget-view+json": {
       "model_id": "bb637353c4ae49bd98dd7d3f86cb16c3",
       "version_major": 2,
       "version_minor": 0
      },
      "text/plain": [
       "HBox(children=(FloatProgress(value=0.0, max=24378.0), HTML(value='')))"
      ]
     },
     "metadata": {},
     "output_type": "display_data"
    },
    {
     "name": "stdout",
     "output_type": "stream",
     "text": [
      "\n"
     ]
    },
    {
     "data": {
      "application/vnd.jupyter.widget-view+json": {
       "model_id": "e99e82f0e9914c659b12989a29b2f6c0",
       "version_major": 2,
       "version_minor": 0
      },
      "text/plain": [
       "HBox(children=(FloatProgress(value=0.0, max=41.0), HTML(value='')))"
      ]
     },
     "metadata": {},
     "output_type": "display_data"
    },
    {
     "name": "stdout",
     "output_type": "stream",
     "text": [
      "\n"
     ]
    },
    {
     "data": {
      "application/vnd.jupyter.widget-view+json": {
       "model_id": "5b916766827d4056aff9104d46ab95ef",
       "version_major": 2,
       "version_minor": 0
      },
      "text/plain": [
       "HBox(children=(FloatProgress(value=0.0, max=8008.0), HTML(value='')))"
      ]
     },
     "metadata": {},
     "output_type": "display_data"
    },
    {
     "name": "stdout",
     "output_type": "stream",
     "text": [
      "\n"
     ]
    },
    {
     "data": {
      "application/vnd.jupyter.widget-view+json": {
       "model_id": "2920e89e34bb468ea5fbc69ced5d892b",
       "version_major": 2,
       "version_minor": 0
      },
      "text/plain": [
       "HBox(children=(FloatProgress(value=0.0, max=10448.0), HTML(value='')))"
      ]
     },
     "metadata": {},
     "output_type": "display_data"
    },
    {
     "name": "stdout",
     "output_type": "stream",
     "text": [
      "\n"
     ]
    },
    {
     "data": {
      "application/vnd.jupyter.widget-view+json": {
       "model_id": "dbc9a70d85cc4ae885468f44a6daa342",
       "version_major": 2,
       "version_minor": 0
      },
      "text/plain": [
       "HBox(children=(FloatProgress(value=0.0, max=18.0), HTML(value='')))"
      ]
     },
     "metadata": {},
     "output_type": "display_data"
    },
    {
     "name": "stdout",
     "output_type": "stream",
     "text": [
      "\n"
     ]
    }
   ],
   "source": [
    "traindir = './train/'\n",
    "testdir = './test/'\n",
    "\n",
    "for index in tqdm(C1_train.index):\n",
    "    destdir = traindir + 'Class1.1/' \n",
    "    process_sort(index, destdir)\n",
    "for index in tqdm(C2_train.index):\n",
    "    destdir = traindir + 'Class1.2/'\n",
    "    process_sort(index, destdir)\n",
    "for index in tqdm(C3_train.index):\n",
    "    destdir = traindir + 'Class1.3/'\n",
    "    process_sort(index, destdir)\n",
    "    \n",
    "\n",
    "for index in tqdm(C1_valid.index):\n",
    "    destdir = testdir + 'Class1.1/' \n",
    "    process_sort(index, destdir)\n",
    "for index in tqdm(C2_valid.index):\n",
    "    destdir = testdir + 'Class1.2/'\n",
    "    process_sort(index, destdir)\n",
    "for index in tqdm(C3_valid.index):\n",
    "    destdir = testdir + 'Class1.3/' \n",
    "    process_sort(index, destdir)"
   ]
  },
  {
   "cell_type": "code",
   "execution_count": 177,
   "metadata": {},
   "outputs": [
    {
     "name": "stderr",
     "output_type": "stream",
     "text": [
      "/home/guillaume/.virtualenvs/ComputerVision/lib/python3.7/site-packages/ipykernel_launcher.py:4: FutureWarning: The signature of `Series.to_csv` was aligned to that of `DataFrame.to_csv`, and argument 'header' will change its default value from False to True: please pass an explicit value to suppress this warning.\n",
      "  after removing the cwd from sys.path.\n",
      "/home/guillaume/.virtualenvs/ComputerVision/lib/python3.7/site-packages/ipykernel_launcher.py:5: FutureWarning: The signature of `Series.to_csv` was aligned to that of `DataFrame.to_csv`, and argument 'header' will change its default value from False to True: please pass an explicit value to suppress this warning.\n",
      "  \"\"\"\n"
     ]
    }
   ],
   "source": [
    "train_df = concat([C1_train['Class'], C2_train['Class'], C3_train['Class']])\n",
    "valid_df = concat([C1_valid['Class'], C2_valid['Class'], C3_valid['Class']])\n",
    "\n",
    "train_df.to_csv('y_train.csv', header=True)\n",
    "valid_df.to_csv('y_valid.csv', header=True)"
   ]
  },
  {
   "cell_type": "code",
   "execution_count": 178,
   "metadata": {},
   "outputs": [
    {
     "data": {
      "text/plain": [
       "GalaxyID\n",
       "493144    Class1.1\n",
       "176103    Class1.1\n",
       "194309    Class1.1\n",
       "300270    Class1.1\n",
       "970529    Class1.1\n",
       "147864    Class1.1\n",
       "994503    Class1.1\n",
       "195963    Class1.1\n",
       "125277    Class1.1\n",
       "204216    Class1.1\n",
       "820345    Class1.1\n",
       "545272    Class1.1\n",
       "727585    Class1.1\n",
       "301285    Class1.1\n",
       "201087    Class1.1\n",
       "588247    Class1.1\n",
       "953693    Class1.1\n",
       "364082    Class1.1\n",
       "140218    Class1.1\n",
       "928979    Class1.1\n",
       "321948    Class1.1\n",
       "562018    Class1.1\n",
       "226183    Class1.1\n",
       "816381    Class1.1\n",
       "444913    Class1.1\n",
       "159446    Class1.1\n",
       "211719    Class1.1\n",
       "884174    Class1.1\n",
       "585212    Class1.1\n",
       "228834    Class1.1\n",
       "            ...   \n",
       "597240    Class1.2\n",
       "765998    Class1.2\n",
       "424411    Class1.2\n",
       "407050    Class1.2\n",
       "621051    Class1.2\n",
       "794805    Class1.2\n",
       "720396    Class1.2\n",
       "975466    Class1.2\n",
       "557882    Class1.2\n",
       "657188    Class1.2\n",
       "828285    Class1.2\n",
       "734660    Class1.2\n",
       "356310    Class1.3\n",
       "515600    Class1.3\n",
       "320852    Class1.3\n",
       "809904    Class1.3\n",
       "689434    Class1.3\n",
       "674832    Class1.3\n",
       "901883    Class1.3\n",
       "998352    Class1.3\n",
       "723850    Class1.3\n",
       "991223    Class1.3\n",
       "373941    Class1.3\n",
       "126783    Class1.3\n",
       "774675    Class1.3\n",
       "640115    Class1.3\n",
       "437063    Class1.3\n",
       "968274    Class1.3\n",
       "783039    Class1.3\n",
       "996629    Class1.3\n",
       "Name: Class, Length: 18474, dtype: object"
      ]
     },
     "execution_count": 178,
     "metadata": {},
     "output_type": "execute_result"
    }
   ],
   "source": [
    "valid_df"
   ]
  },
  {
   "cell_type": "code",
   "execution_count": null,
   "metadata": {},
   "outputs": [],
   "source": []
  }
 ],
 "metadata": {
  "kernelspec": {
   "display_name": "Python 3",
   "language": "python",
   "name": "python3"
  },
  "language_info": {
   "codemirror_mode": {
    "name": "ipython",
    "version": 3
   },
   "file_extension": ".py",
   "mimetype": "text/x-python",
   "name": "python",
   "nbconvert_exporter": "python",
   "pygments_lexer": "ipython3",
   "version": "3.7.5"
  }
 },
 "nbformat": 4,
 "nbformat_minor": 2
}
